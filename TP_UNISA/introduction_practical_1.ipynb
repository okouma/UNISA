{
 "metadata": {
  "kernelspec": {
   "display_name": "Python 2",
   "language": "python",
   "name": "python2"
  },
  "language_info": {
   "codemirror_mode": {
    "name": "ipython",
    "version": 2
   },
   "file_extension": ".py",
   "mimetype": "text/x-python",
   "name": "python",
   "nbconvert_exporter": "python",
   "pygments_lexer": "ipython2",
   "version": "2.7.6"
  },
  "name": "",
  "signature": "sha256:df495b9f043ea4fa5de914bde8384e32a50727712cb1645f69ca5c8e2f03c882"
 },
 "nbformat": 3,
 "nbformat_minor": 0,
 "worksheets": [
  {
   "cells": [
    {
     "cell_type": "markdown",
     "metadata": {},
     "source": [
      "The mathematical challenge for the artificial neural network is to best optimize thousands or millions or whatever number of weights you have, so that your output layer results in what you were hoping for. Solving for this problem, and building out the layers of our neural network model is exactly what TensorFlow is for. TensorFlow is used for all things \"operations on tensors.\" A tensor in this case is nothing fancy. It's a multi-dimensional array.\n",
      "\n",
      "To install TensorFlow, simply do a:\n",
      "\n",
      "\n",
      "\n",
      "###\n",
      "\n",
      "\n",
      "\n"
     ]
    },
    {
     "cell_type": "heading",
     "level": 4,
     "metadata": {},
     "source": [
      "pip install --upgrade tensorflow"
     ]
    },
    {
     "cell_type": "markdown",
     "metadata": {},
     "source": [
      "Following the release of deep learning libraries, higher-level API-like libraries came out, which sit on top of the deep learning libraries, like TensorFlow, which make building, testing, and tweaking models even more simple. One such library that has easily become the most popular is Keras.\n",
      "\n",
      "Keras has become so popular, that it is now a superset, included with TensorFlow releases now! If you're familiar with Keras previously, you can still use it, but now you can use tensorflow.keras to call it. By that same token, if you find example code that uses Keras, you can use with the TensorFlow version of Keras too. In fact, you can just do something like:"
     ]
    },
    {
     "cell_type": "code",
     "collapsed": false,
     "input": [
      "import tensorflow.keras as keras"
     ],
     "language": "python",
     "metadata": {},
     "outputs": [
      {
       "ename": "ImportError",
       "evalue": "No module named tensorflow.keras",
       "output_type": "pyerr",
       "traceback": [
        "\u001b[0;31m---------------------------------------------------------------------------\u001b[0m\n\u001b[0;31mImportError\u001b[0m                               Traceback (most recent call last)",
        "\u001b[0;32m<ipython-input-2-4717bbcfe038>\u001b[0m in \u001b[0;36m<module>\u001b[0;34m()\u001b[0m\n\u001b[0;32m----> 1\u001b[0;31m \u001b[0;32mimport\u001b[0m \u001b[0mtensorflow\u001b[0m\u001b[0;34m.\u001b[0m\u001b[0mkeras\u001b[0m \u001b[0;32mas\u001b[0m \u001b[0mkeras\u001b[0m\u001b[0;34m\u001b[0m\u001b[0m\n\u001b[0m",
        "\u001b[0;31mImportError\u001b[0m: No module named tensorflow.keras"
       ]
      }
     ],
     "prompt_number": 2
    },
    {
     "cell_type": "markdown",
     "metadata": {},
     "source": [
      "For this tutorial, we are going to be using TensorFlow version 1.10. You can figure out your version:"
     ]
    },
    {
     "cell_type": "code",
     "collapsed": false,
     "input": [
      "import tensorflow as tf\n",
      "\n",
      "print(tf.__version__)\n"
     ],
     "language": "python",
     "metadata": {},
     "outputs": [
      {
       "ename": "ImportError",
       "evalue": "No module named tensorflow",
       "output_type": "pyerr",
       "traceback": [
        "\u001b[0;31m---------------------------------------------------------------------------\u001b[0m\n\u001b[0;31mImportError\u001b[0m                               Traceback (most recent call last)",
        "\u001b[0;32m<ipython-input-3-748c8c8192ef>\u001b[0m in \u001b[0;36m<module>\u001b[0;34m()\u001b[0m\n\u001b[0;32m----> 1\u001b[0;31m \u001b[0;32mimport\u001b[0m \u001b[0mtensorflow\u001b[0m \u001b[0;32mas\u001b[0m \u001b[0mtf\u001b[0m\u001b[0;34m\u001b[0m\u001b[0m\n\u001b[0m\u001b[1;32m      2\u001b[0m \u001b[0;34m\u001b[0m\u001b[0m\n\u001b[1;32m      3\u001b[0m \u001b[0;32mprint\u001b[0m\u001b[0;34m(\u001b[0m\u001b[0mtf\u001b[0m\u001b[0;34m.\u001b[0m\u001b[0m__version__\u001b[0m\u001b[0;34m)\u001b[0m\u001b[0;34m\u001b[0m\u001b[0m\n",
        "\u001b[0;31mImportError\u001b[0m: No module named tensorflow"
       ]
      }
     ],
     "prompt_number": 3
    },
    {
     "cell_type": "markdown",
     "metadata": {},
     "source": [
      "Once we've got tensorflow imported, we can then begin to prepare our data, model it, and then train it. For the sake of simplicity, we'll be using the most common \"hello world\" example for deep learning, which is the mnist dataset. It's a dataset of hand-written digits, 0 through 9. It's 28x28 images of these hand-written digits. We will show an example of using outside data as well, but, for now, let's load in this data:"
     ]
    },
    {
     "cell_type": "code",
     "collapsed": false,
     "input": [
      "mnist = tf.keras.datasets.mnist\n",
      "\n",
      "(x_train, y_train),(x_test, y_test) = mnist.load_data()"
     ],
     "language": "python",
     "metadata": {},
     "outputs": [],
     "prompt_number": 27
    },
    {
     "cell_type": "markdown",
     "metadata": {},
     "source": [
      "What exactly do we have here? Let's take a quick look.\n",
      "\n",
      "\n",
      "So the x_train data is the \"features.\" In this case, the features are pixel values of the 28x28 images of these digits 0-9. The y_train is the label (is it a 0,1,2,3,4,5,6,7,8 or a 9?)\n",
      "\n",
      "The testing variants of these variables is the \"out of sample\" examples that we will use. These are examples from our data that we're going to set aside, reserving them for testing the model.\n",
      "\n",
      "Neural networks are exceptionally good at fitting to data, so much so that they will commonly over-fit the data. Our real hope is that the neural network doesn't just memorize our data and that it instead \"generalizes\" and learns the actual problem and patterns associated with it.\n",
      "\n",
      "Let's look at this actual data:"
     ]
    },
    {
     "cell_type": "code",
     "collapsed": false,
     "input": [
      "print(x_train[0])"
     ],
     "language": "python",
     "metadata": {},
     "outputs": [
      {
       "output_type": "stream",
       "stream": "stdout",
       "text": [
        "[[  0   0   0   0   0   0   0   0   0   0   0   0   0   0   0   0   0   0\n",
        "    0   0   0   0   0   0   0   0   0   0]\n",
        " [  0   0   0   0   0   0   0   0   0   0   0   0   0   0   0   0   0   0\n",
        "    0   0   0   0   0   0   0   0   0   0]\n",
        " [  0   0   0   0   0   0   0   0   0   0   0   0   0   0   0   0   0   0\n",
        "    0   0   0   0   0   0   0   0   0   0]\n",
        " [  0   0   0   0   0   0   0   0   0   0   0   0   0   0   0   0   0   0\n",
        "    0   0   0   0   0   0   0   0   0   0]\n",
        " [  0   0   0   0   0   0   0   0   0   0   0   0   0   0   0   0   0   0\n",
        "    0   0   0   0   0   0   0   0   0   0]\n",
        " [  0   0   0   0   0   0   0   0   0   0   0   0   3  18  18  18 126 136\n",
        "  175  26 166 255 247 127   0   0   0   0]\n",
        " [  0   0   0   0   0   0   0   0  30  36  94 154 170 253 253 253 253 253\n",
        "  225 172 253 242 195  64   0   0   0   0]\n",
        " [  0   0   0   0   0   0   0  49 238 253 253 253 253 253 253 253 253 251\n",
        "   93  82  82  56  39   0   0   0   0   0]\n",
        " [  0   0   0   0   0   0   0  18 219 253 253 253 253 253 198 182 247 241\n",
        "    0   0   0   0   0   0   0   0   0   0]\n",
        " [  0   0   0   0   0   0   0   0  80 156 107 253 253 205  11   0  43 154\n",
        "    0   0   0   0   0   0   0   0   0   0]\n",
        " [  0   0   0   0   0   0   0   0   0  14   1 154 253  90   0   0   0   0\n",
        "    0   0   0   0   0   0   0   0   0   0]\n",
        " [  0   0   0   0   0   0   0   0   0   0   0 139 253 190   2   0   0   0\n",
        "    0   0   0   0   0   0   0   0   0   0]\n",
        " [  0   0   0   0   0   0   0   0   0   0   0  11 190 253  70   0   0   0\n",
        "    0   0   0   0   0   0   0   0   0   0]\n",
        " [  0   0   0   0   0   0   0   0   0   0   0   0  35 241 225 160 108   1\n",
        "    0   0   0   0   0   0   0   0   0   0]\n",
        " [  0   0   0   0   0   0   0   0   0   0   0   0   0  81 240 253 253 119\n",
        "   25   0   0   0   0   0   0   0   0   0]\n",
        " [  0   0   0   0   0   0   0   0   0   0   0   0   0   0  45 186 253 253\n",
        "  150  27   0   0   0   0   0   0   0   0]\n",
        " [  0   0   0   0   0   0   0   0   0   0   0   0   0   0   0  16  93 252\n",
        "  253 187   0   0   0   0   0   0   0   0]\n",
        " [  0   0   0   0   0   0   0   0   0   0   0   0   0   0   0   0   0 249\n",
        "  253 249  64   0   0   0   0   0   0   0]\n",
        " [  0   0   0   0   0   0   0   0   0   0   0   0   0   0  46 130 183 253\n",
        "  253 207   2   0   0   0   0   0   0   0]\n",
        " [  0   0   0   0   0   0   0   0   0   0   0   0  39 148 229 253 253 253\n",
        "  250 182   0   0   0   0   0   0   0   0]\n",
        " [  0   0   0   0   0   0   0   0   0   0  24 114 221 253 253 253 253 201\n",
        "   78   0   0   0   0   0   0   0   0   0]\n",
        " [  0   0   0   0   0   0   0   0  23  66 213 253 253 253 253 198  81   2\n",
        "    0   0   0   0   0   0   0   0   0   0]\n",
        " [  0   0   0   0   0   0  18 171 219 253 253 253 253 195  80   9   0   0\n",
        "    0   0   0   0   0   0   0   0   0   0]\n",
        " [  0   0   0   0  55 172 226 253 253 253 253 244 133  11   0   0   0   0\n",
        "    0   0   0   0   0   0   0   0   0   0]\n",
        " [  0   0   0   0 136 253 253 253 212 135 132  16   0   0   0   0   0   0\n",
        "    0   0   0   0   0   0   0   0   0   0]\n",
        " [  0   0   0   0   0   0   0   0   0   0   0   0   0   0   0   0   0   0\n",
        "    0   0   0   0   0   0   0   0   0   0]\n",
        " [  0   0   0   0   0   0   0   0   0   0   0   0   0   0   0   0   0   0\n",
        "    0   0   0   0   0   0   0   0   0   0]\n",
        " [  0   0   0   0   0   0   0   0   0   0   0   0   0   0   0   0   0   0\n",
        "    0   0   0   0   0   0   0   0   0   0]]\n"
       ]
      }
     ],
     "prompt_number": 28
    },
    {
     "cell_type": "markdown",
     "metadata": {},
     "source": [
      "Alright, could we visualize this?"
     ]
    },
    {
     "cell_type": "code",
     "collapsed": false,
     "input": [
      "import matplotlib.pyplot as plt\n",
      "#normal charts inside notebooks\n",
      "%matplotlib inline \n",
      "\n",
      "plt.imshow(x_train[0],cmap=plt.cm.binary)\n",
      "plt.show()\n"
     ],
     "language": "python",
     "metadata": {},
     "outputs": [
      {
       "metadata": {},
       "output_type": "display_data",
       "png": "[encoded data removed]",
       "text": [
        "<matplotlib.figure.Figure at 0x7fd4633301d0>"
       ]
      }
     ],
     "prompt_number": 29
    },
    {
     "cell_type": "markdown",
     "metadata": {},
     "source": [
      "How about the value for y_train with the same index?\n",
      "\n"
     ]
    },
    {
     "cell_type": "code",
     "collapsed": false,
     "input": [
      "print(y_train[0])"
     ],
     "language": "python",
     "metadata": {},
     "outputs": [
      {
       "output_type": "stream",
       "stream": "stdout",
       "text": [
        "5\n"
       ]
      }
     ],
     "prompt_number": 30
    },
    {
     "cell_type": "markdown",
     "metadata": {},
     "source": [
      "It's generally a good idea to \"normalize\" your data. This typically involves scaling the data to be between 0 and 1, or maybe -1 and positive 1. In our case, each \"pixel\" is a feature, and each feature currently ranges from 0 to 255. Not quite 0 to 1. Let's change that with a handy utility function:"
     ]
    },
    {
     "cell_type": "code",
     "collapsed": false,
     "input": [
      "x_train = tf.keras.utils.normalize(x_train, axis=1)\n",
      "x_test = tf.keras.utils.normalize(x_test, axis=1)\n"
     ],
     "language": "python",
     "metadata": {},
     "outputs": [],
     "prompt_number": 31
    },
    {
     "cell_type": "code",
     "collapsed": false,
     "input": [
      "print(x_train[0])\n"
     ],
     "language": "python",
     "metadata": {},
     "outputs": [
      {
       "output_type": "stream",
       "stream": "stdout",
       "text": [
        "[[0.         0.         0.         0.         0.         0.\n",
        "  0.         0.         0.         0.         0.         0.\n",
        "  0.         0.         0.         0.         0.         0.\n",
        "  0.         0.         0.         0.         0.         0.\n",
        "  0.         0.         0.         0.        ]\n",
        " [0.         0.         0.         0.         0.         0.\n",
        "  0.         0.         0.         0.         0.         0.\n",
        "  0.         0.         0.         0.         0.         0.\n",
        "  0.         0.         0.         0.         0.         0.\n",
        "  0.         0.         0.         0.        ]\n",
        " [0.         0.         0.         0.         0.         0.\n",
        "  0.         0.         0.         0.         0.         0.\n",
        "  0.         0.         0.         0.         0.         0.\n",
        "  0.         0.         0.         0.         0.         0.\n",
        "  0.         0.         0.         0.        ]\n",
        " [0.         0.         0.         0.         0.         0.\n",
        "  0.         0.         0.         0.         0.         0.\n",
        "  0.         0.         0.         0.         0.         0.\n",
        "  0.         0.         0.         0.         0.         0.\n",
        "  0.         0.         0.         0.        ]\n",
        " [0.         0.         0.         0.         0.         0.\n",
        "  0.         0.         0.         0.         0.         0.\n",
        "  0.         0.         0.         0.         0.         0.\n",
        "  0.         0.         0.         0.         0.         0.\n",
        "  0.         0.         0.         0.        ]\n",
        " [0.         0.         0.         0.         0.         0.\n",
        "  0.         0.         0.         0.         0.         0.\n",
        "  0.00393124 0.02332955 0.02620568 0.02625207 0.17420356 0.17566281\n",
        "  0.28629534 0.05664824 0.51877786 0.71632322 0.77892406 0.89301644\n",
        "  0.         0.         0.         0.        ]\n",
        " [0.         0.         0.         0.         0.         0.\n",
        "  0.         0.         0.05780486 0.06524513 0.16128198 0.22713296\n",
        "  0.22277047 0.32790981 0.36833534 0.3689874  0.34978968 0.32678448\n",
        "  0.368094   0.3747499  0.79066747 0.67980478 0.61494005 0.45002403\n",
        "  0.         0.         0.         0.        ]\n",
        " [0.         0.         0.         0.         0.         0.\n",
        "  0.         0.12250613 0.45858525 0.45852825 0.43408872 0.37314701\n",
        "  0.33153488 0.32790981 0.36833534 0.3689874  0.34978968 0.32420121\n",
        "  0.15214552 0.17865984 0.25626376 0.1573102  0.12298801 0.\n",
        "  0.         0.         0.         0.        ]\n",
        " [0.         0.         0.         0.         0.         0.\n",
        "  0.         0.04500225 0.4219755  0.45852825 0.43408872 0.37314701\n",
        "  0.33153488 0.32790981 0.28826244 0.26543758 0.34149427 0.31128482\n",
        "  0.         0.         0.         0.         0.         0.\n",
        "  0.         0.         0.         0.        ]\n",
        " [0.         0.         0.         0.         0.         0.\n",
        "  0.         0.         0.1541463  0.28272888 0.18358693 0.37314701\n",
        "  0.33153488 0.26569767 0.01601458 0.         0.05945042 0.19891229\n",
        "  0.         0.         0.         0.         0.         0.\n",
        "  0.         0.         0.         0.        ]\n",
        " [0.         0.         0.         0.         0.         0.\n",
        "  0.         0.         0.         0.0253731  0.00171577 0.22713296\n",
        "  0.33153488 0.11664776 0.         0.         0.         0.\n",
        "  0.         0.         0.         0.         0.         0.\n",
        "  0.         0.         0.         0.        ]\n",
        " [0.         0.         0.         0.         0.         0.\n",
        "  0.         0.         0.         0.         0.         0.20500962\n",
        "  0.33153488 0.24625638 0.00291174 0.         0.         0.\n",
        "  0.         0.         0.         0.         0.         0.\n",
        "  0.         0.         0.         0.        ]\n",
        " [0.         0.         0.         0.         0.         0.\n",
        "  0.         0.         0.         0.         0.         0.01622378\n",
        "  0.24897876 0.32790981 0.10191096 0.         0.         0.\n",
        "  0.         0.         0.         0.         0.         0.\n",
        "  0.         0.         0.         0.        ]\n",
        " [0.         0.         0.         0.         0.         0.\n",
        "  0.         0.         0.         0.         0.         0.\n",
        "  0.04586451 0.31235677 0.32757096 0.23335172 0.14931733 0.00129164\n",
        "  0.         0.         0.         0.         0.         0.\n",
        "  0.         0.         0.         0.        ]\n",
        " [0.         0.         0.         0.         0.         0.\n",
        "  0.         0.         0.         0.         0.         0.\n",
        "  0.         0.10498298 0.34940902 0.3689874  0.34978968 0.15370495\n",
        "  0.04089933 0.         0.         0.         0.         0.\n",
        "  0.         0.         0.         0.        ]\n",
        " [0.         0.         0.         0.         0.         0.\n",
        "  0.         0.         0.         0.         0.         0.\n",
        "  0.         0.         0.06551419 0.27127137 0.34978968 0.32678448\n",
        "  0.245396   0.05882702 0.         0.         0.         0.\n",
        "  0.         0.         0.         0.        ]\n",
        " [0.         0.         0.         0.         0.         0.\n",
        "  0.         0.         0.         0.         0.         0.\n",
        "  0.         0.         0.         0.02333517 0.12857881 0.32549285\n",
        "  0.41390126 0.40743158 0.         0.         0.         0.\n",
        "  0.         0.         0.         0.        ]\n",
        " [0.         0.         0.         0.         0.         0.\n",
        "  0.         0.         0.         0.         0.         0.\n",
        "  0.         0.         0.         0.         0.         0.32161793\n",
        "  0.41390126 0.54251585 0.20001074 0.         0.         0.\n",
        "  0.         0.         0.         0.        ]\n",
        " [0.         0.         0.         0.         0.         0.\n",
        "  0.         0.         0.         0.         0.         0.\n",
        "  0.         0.         0.06697006 0.18959827 0.25300993 0.32678448\n",
        "  0.41390126 0.45100715 0.00625034 0.         0.         0.\n",
        "  0.         0.         0.         0.        ]\n",
        " [0.         0.         0.         0.         0.         0.\n",
        "  0.         0.         0.         0.         0.         0.\n",
        "  0.05110617 0.19182076 0.33339444 0.3689874  0.34978968 0.32678448\n",
        "  0.40899334 0.39653769 0.         0.         0.         0.\n",
        "  0.         0.         0.         0.        ]\n",
        " [0.         0.         0.         0.         0.         0.\n",
        "  0.         0.         0.         0.         0.04117838 0.16813739\n",
        "  0.28960162 0.32790981 0.36833534 0.3689874  0.34978968 0.25961929\n",
        "  0.12760592 0.         0.         0.         0.         0.\n",
        "  0.         0.         0.         0.        ]\n",
        " [0.         0.         0.         0.         0.         0.\n",
        "  0.         0.         0.04431706 0.11961607 0.36545809 0.37314701\n",
        "  0.33153488 0.32790981 0.36833534 0.28877275 0.111988   0.00258328\n",
        "  0.         0.         0.         0.         0.         0.\n",
        "  0.         0.         0.         0.        ]\n",
        " [0.         0.         0.         0.         0.         0.\n",
        "  0.05298497 0.42752138 0.4219755  0.45852825 0.43408872 0.37314701\n",
        "  0.33153488 0.25273681 0.11646967 0.01312603 0.         0.\n",
        "  0.         0.         0.         0.         0.         0.\n",
        "  0.         0.         0.         0.        ]\n",
        " [0.         0.         0.         0.         0.37491383 0.56222061\n",
        "  0.66525569 0.63253163 0.48748768 0.45852825 0.43408872 0.359873\n",
        "  0.17428513 0.01425695 0.         0.         0.         0.\n",
        "  0.         0.         0.         0.         0.         0.\n",
        "  0.         0.         0.         0.        ]\n",
        " [0.         0.         0.         0.         0.92705966 0.82698729\n",
        "  0.74473314 0.63253163 0.4084877  0.24466922 0.22648107 0.02359823\n",
        "  0.         0.         0.         0.         0.         0.\n",
        "  0.         0.         0.         0.         0.         0.\n",
        "  0.         0.         0.         0.        ]\n",
        " [0.         0.         0.         0.         0.         0.\n",
        "  0.         0.         0.         0.         0.         0.\n",
        "  0.         0.         0.         0.         0.         0.\n",
        "  0.         0.         0.         0.         0.         0.\n",
        "  0.         0.         0.         0.        ]\n",
        " [0.         0.         0.         0.         0.         0.\n",
        "  0.         0.         0.         0.         0.         0.\n",
        "  0.         0.         0.         0.         0.         0.\n",
        "  0.         0.         0.         0.         0.         0.\n",
        "  0.         0.         0.         0.        ]\n",
        " [0.         0.         0.         0.         0.         0.\n",
        "  0.         0.         0.         0.         0.         0.\n",
        "  0.         0.         0.         0.         0.         0.\n",
        "  0.         0.         0.         0.         0.         0.\n",
        "  0.         0.         0.         0.        ]]\n"
       ]
      }
     ],
     "prompt_number": 32
    },
    {
     "cell_type": "code",
     "collapsed": false,
     "input": [
      "plt.imshow(x_train[0],cmap=plt.cm.binary)\n",
      "plt.show()\n"
     ],
     "language": "python",
     "metadata": {},
     "outputs": [
      {
       "metadata": {},
       "output_type": "display_data",
       "png": "[encoded data removed]",
       "text": [
        "<matplotlib.figure.Figure at 0x7fd46330a050>"
       ]
      }
     ],
     "prompt_number": 33
    },
    {
     "cell_type": "heading",
     "level": 1,
     "metadata": {},
     "source": [
      "Now let's build our model!"
     ]
    },
    {
     "cell_type": "code",
     "collapsed": false,
     "input": [
      "model = tf.keras.models.Sequential()"
     ],
     "language": "python",
     "metadata": {},
     "outputs": [],
     "prompt_number": 34
    },
    {
     "cell_type": "markdown",
     "metadata": {},
     "source": [
      "A sequential model is what you're going to use most of the time. It just means things are going to go in direct order. A feed forward model. No going backwards...for now.\n",
      "\n",
      "Now, we'll pop in layers. Recall our neural network image? Was the input layer flat, or was it multi-dimensional? It was flat. So, we need to take this 28x28 image, and make it a flat 1x784. There are many ways for us to do this, but keras has a Flatten layer built just for us, so we'll use that."
     ]
    },
    {
     "cell_type": "code",
     "collapsed": false,
     "input": [
      "model.add(tf.keras.layers.Flatten())"
     ],
     "language": "python",
     "metadata": {},
     "outputs": [],
     "prompt_number": 35
    },
    {
     "cell_type": "markdown",
     "metadata": {},
     "source": [
      "This will serve as our input layer. It's going to take the data we throw at it, and just flatten it for us. Next, we want our hidden layers. We're going to go with the simplest neural network layer, which is just a Dense layer. This refers to the fact that it's a densely-connected layer, meaning it's \"fully connected,\" where each node connects to each prior and subsequent node. Just like our image."
     ]
    },
    {
     "cell_type": "code",
     "collapsed": false,
     "input": [
      "model.add(tf.keras.layers.Dense(128, activation=tf.nn.relu))\n"
     ],
     "language": "python",
     "metadata": {},
     "outputs": [],
     "prompt_number": 36
    },
    {
     "cell_type": "markdown",
     "metadata": {},
     "source": [
      "This layer has 128 units. The activation function is relu, short for rectified linear. Currently, relu is the activation function you should just default to. There are many more to test for sure, but, if you don't know what to use, use relu to start.\n",
      "\n",
      "Let's add another identical layer for good measure."
     ]
    },
    {
     "cell_type": "code",
     "collapsed": false,
     "input": [
      "model.add(tf.keras.layers.Dense(128, activation=tf.nn.relu))\n"
     ],
     "language": "python",
     "metadata": {},
     "outputs": [],
     "prompt_number": 37
    },
    {
     "cell_type": "markdown",
     "metadata": {},
     "source": [
      "Now, we're ready for an output layer:\n",
      "\n"
     ]
    },
    {
     "cell_type": "code",
     "collapsed": false,
     "input": [
      "model.add(tf.keras.layers.Dense(10, activation=tf.nn.softmax))\n"
     ],
     "language": "python",
     "metadata": {},
     "outputs": [],
     "prompt_number": 38
    },
    {
     "cell_type": "markdown",
     "metadata": {},
     "source": [
      "This is our final layer. It has 10 nodes. 1 node per possible number prediction. In this case, our activation function is a softmax function, since we're really actually looking for something more like a probability distribution of which of the possible prediction options this thing we're passing features through of is. Great, our model is done.\n",
      "\n",
      "Now we need to \"compile\" the model. This is where we pass the settings for actually optimizing/training the model we've defined."
     ]
    },
    {
     "cell_type": "code",
     "collapsed": false,
     "input": [
      "model.compile(optimizer='adam',\n",
      "              loss='sparse_categorical_crossentropy',\n",
      "              metrics=['accuracy'])\n"
     ],
     "language": "python",
     "metadata": {},
     "outputs": [],
     "prompt_number": 39
    },
    {
     "cell_type": "markdown",
     "metadata": {},
     "source": [
      "Remember why we picked relu as an activation function? Same thing is true for the Adam optimizer. It's just a great default to start with.\n",
      "\n",
      "Next, we have our loss metric. Loss is a calculation of error. A neural network doesn't actually attempt to maximize accuracy. It attempts to minimize loss. Again, there are many choices, but some form of categorical crossentropy is a good start for a classification task like this.\n",
      "\n",
      "Now, we fit!"
     ]
    },
    {
     "cell_type": "code",
     "collapsed": false,
     "input": [
      "model.fit(x_train, y_train, epochs=3)\n"
     ],
     "language": "python",
     "metadata": {},
     "outputs": [
      {
       "output_type": "stream",
       "stream": "stdout",
       "text": [
        "Epoch 1/3\n",
        "60000/60000 [==============================] - 12s 203us/step - loss: 0.2604 - acc: 0.9239\n",
        "Epoch 2/3\n",
        "60000/60000 [==============================] - 12s 203us/step - loss: 0.1047 - acc: 0.9673\n",
        "Epoch 3/3\n",
        "60000/60000 [==============================] - 13s 214us/step - loss: 0.0697 - acc: 0.9784\n"
       ]
      },
      {
       "metadata": {},
       "output_type": "pyout",
       "prompt_number": 40,
       "text": [
        "<tensorflow.python.keras.callbacks.History at 0x7fd4632c1550>"
       ]
      }
     ],
     "prompt_number": 40
    },
    {
     "cell_type": "markdown",
     "metadata": {},
     "source": [
      "As we train, we can see loss goes down (yay), and accuracy improves quite quickly to 98-99% (double yay!)\n",
      "\n",
      "Now that's loss and accuracy for in-sample data. Getting a high accuracy and low loss might mean your model learned how to classify digits in general (it generalized)...or it simply memorized every single example you showed it (it overfit). This is why we need to test on out-of-sample data (data we didn't use to train the model).\n",
      "\n"
     ]
    },
    {
     "cell_type": "code",
     "collapsed": false,
     "input": [
      "val_loss, val_acc = model.evaluate(x_test, y_test)\n",
      "print(val_loss)\n",
      "print(val_acc)\n"
     ],
     "language": "python",
     "metadata": {},
     "outputs": [
      {
       "output_type": "stream",
       "stream": "stdout",
       "text": [
        "10000/10000 [==============================] - 1s 96us/step\n",
        "0.09538353082137183\n",
        "0.9722\n"
       ]
      }
     ],
     "prompt_number": 41
    },
    {
     "cell_type": "markdown",
     "metadata": {},
     "source": [
      "It's going to be very likely your accuracy out of sample is a bit worse, same with loss. In fact, it should be a red flag if it's identical, or better.\n",
      "\n",
      "finally, make predictions!\n"
     ]
    },
    {
     "cell_type": "code",
     "collapsed": false,
     "input": [
      "predictions = model.predict(x_test)"
     ],
     "language": "python",
     "metadata": {},
     "outputs": [],
     "prompt_number": 43
    },
    {
     "cell_type": "code",
     "collapsed": false,
     "input": [
      "print(predictions)"
     ],
     "language": "python",
     "metadata": {},
     "outputs": [
      {
       "output_type": "stream",
       "stream": "stdout",
       "text": [
        "[[4.3278972e-09 2.8263142e-07 6.7698024e-06 ... 9.9998510e-01\n",
        "  2.9673702e-10 5.2546856e-09]\n",
        " [1.5678201e-07 1.2696983e-05 9.9996364e-01 ... 1.7805741e-09\n",
        "  3.1861936e-07 9.7674932e-12]\n",
        " [7.1847580e-07 9.9952483e-01 8.7844119e-06 ... 1.6556344e-04\n",
        "  1.6606077e-04 1.2307473e-05]\n",
        " ...\n",
        " [4.2445376e-09 1.5110535e-06 5.6291829e-09 ... 7.2226816e-05\n",
        "  3.5933288e-06 3.4424691e-05]\n",
        " [7.3126461e-07 2.9124226e-07 1.2125557e-07 ... 1.2145659e-05\n",
        "  2.6846683e-04 2.2523007e-08]\n",
        " [1.4899255e-06 2.5458986e-09 6.6384160e-08 ... 2.8958596e-11\n",
        "  8.8722437e-08 1.0356251e-08]]\n"
       ]
      }
     ],
     "prompt_number": 44
    },
    {
     "cell_type": "markdown",
     "metadata": {},
     "source": [
      "That sure doesn't start off as helpful, but recall these are probability distributions. We can get the actual number pretty simply:\n",
      "\n"
     ]
    },
    {
     "cell_type": "code",
     "collapsed": false,
     "input": [
      "import numpy as np\n",
      "\n",
      "print(np.argmax(predictions[0]))\n"
     ],
     "language": "python",
     "metadata": {},
     "outputs": [
      {
       "output_type": "stream",
       "stream": "stdout",
       "text": [
        "7\n"
       ]
      }
     ],
     "prompt_number": 45
    },
    {
     "cell_type": "markdown",
     "metadata": {},
     "source": [
      "There's your prediction, let's look at the input:\n"
     ]
    },
    {
     "cell_type": "code",
     "collapsed": false,
     "input": [
      "plt.imshow(x_test[0],cmap=plt.cm.binary)\n",
      "plt.show()"
     ],
     "language": "python",
     "metadata": {},
     "outputs": [
      {
       "metadata": {},
       "output_type": "display_data",
       "png": "[encoded data removed]",
       "text": [
        "<matplotlib.figure.Figure at 0x7fd4327ded50>"
       ]
      }
     ],
     "prompt_number": 47
    },
    {
     "cell_type": "markdown",
     "metadata": {},
     "source": [
      "Awesome! Okay, I think that covers all of the \"quick start\" types of things with Keras. This is just barely scratching the surface of what's available to you, so start poking around Tensorflow and Keras documentation."
     ]
    },
    {
     "cell_type": "code",
     "collapsed": false,
     "input": [],
     "language": "python",
     "metadata": {},
     "outputs": [],
     "prompt_number": null
    }
   ],
   "metadata": {}
  }
 ]
}