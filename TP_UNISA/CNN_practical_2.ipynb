{
 "cells": [
  {
   "cell_type": "markdown",
   "metadata": {},
   "source": [
    "### Contruct and train a simple neural network to classify radio sources¶\n",
    "In this notebook we will contruct a simple convolutional neural network to classify a sample of point radio sources and unknown morphology. The sample dataset is small and already preprocessed. Here we will just simply load the data, split them into training and test sets, train and test the network."
   ]
  },
  {
   "cell_type": "markdown",
   "metadata": {},
   "source": [
    "### Load the dataset\n",
    "I have made a small dataset and done all necessary preprocessing and some other dark magic to the images. So at this point we will just load this data and play around."
   ]
  },
  {
   "cell_type": "code",
   "execution_count": 5,
   "metadata": {},
   "outputs": [
    {
     "name": "stdout",
     "output_type": "stream",
     "text": [
      "(1125, 60, 60)\n"
     ]
    }
   ],
   "source": [
    "# Load data and labels\n",
    "data = np.load('Data/data.npy')\n",
    "labels = np.load('Data/labels.npy')\n",
    "\n",
    "# Print some info\n",
    "print data.shape"
   ]
  },
  {
   "cell_type": "markdown",
   "metadata": {},
   "source": [
    "Lets look at two samples from the two classes¶"
   ]
  },
  {
   "cell_type": "code",
   "execution_count": 8,
   "metadata": {},
   "outputs": [
    {
     "name": "stdout",
     "output_type": "stream",
     "text": [
      "Populating the interactive namespace from numpy and matplotlib\n"
     ]
    },
    {
     "name": "stderr",
     "output_type": "stream",
     "text": [
      "/usr/local/lib/python2.7/dist-packages/IPython/core/magics/pylab.py:161: UserWarning: pylab import has clobbered these variables: ['pylab']\n",
      "`%matplotlib` prevents importing * from pylab and numpy\n",
      "  \"\\n`%matplotlib` prevents importing * from pylab and numpy\"\n"
     ]
    },
    {
     "data": {
      "text/plain": [
       "<matplotlib.text.Text at 0x7f09ab0d5b50>"
      ]
     },
     "execution_count": 8,
     "metadata": {},
     "output_type": "execute_result"
    },
    {
     "data": {
      "image/png": "[encoded data removed]",
      "text/plain": [
       "<matplotlib.figure.Figure at 0x7f09bddcc590>"
      ]
     },
     "metadata": {},
     "output_type": "display_data"
    }
   ],
   "source": [
    "import matplotlib.pyplot as pylab\n",
    "%pylab inline\n",
    "\n",
    "\n",
    "pylab.subplot(1,2,1)\n",
    "pylab.imshow(data[1,:,:],'hot')\n",
    "pylab.axis('off')\n",
    "pylab.title('Sample 1 from point sources')\n",
    "\n",
    "\n",
    "pylab.subplot(1,2,2)\n",
    "pylab.imshow(data[817,:,:],'hot')\n",
    "pylab.axis('off')\n",
    "pylab.title('Sample 1 from other sources')"
   ]
  },
  {
   "cell_type": "markdown",
   "metadata": {},
   "source": [
    "Lets split the data into training and testing samples as usual¶\n"
   ]
  },
  {
   "cell_type": "code",
   "execution_count": 28,
   "metadata": {},
   "outputs": [
    {
     "name": "stdout",
     "output_type": "stream",
     "text": [
      "2.0\n"
     ]
    }
   ],
   "source": [
    "X_train = data[:1000, :, :, np.newaxis]\n",
    "X_test = data[:-1000, :, :, np.newaxis]\n",
    "y_train = labels[:1000]\n",
    "y_test = labels[:-1000]\n",
    "print labels.max()"
   ]
  },
  {
   "cell_type": "code",
   "execution_count": 40,
   "metadata": {},
   "outputs": [],
   "source": [
    "import tensorflow as tf\n",
    "from tensorflow.keras.datasets import cifar10\n",
    "from tensorflow.keras.preprocessing.image import ImageDataGenerator\n",
    "from tensorflow.keras.models import Sequential\n",
    "from tensorflow.keras.layers import Dense, Dropout, Activation, Flatten\n",
    "from tensorflow.keras.layers import Conv2D, MaxPooling2D"
   ]
  },
  {
   "cell_type": "markdown",
   "metadata": {},
   "source": [
    "### We will be using a Convolutional Neural Network (CNN) to work the problem\n",
    "For now treat the CNN as a black box and believe in me. You can find plenty of resources on the web. Simply speaking this neural network has\n",
    "\n",
    "Input Layer\n",
    "\n",
    "3 hidden layers\n",
    "\n",
    "Output layer with two neurons\n",
    "\n",
    "The network will train until a threshold condition for the loss function has reached."
   ]
  },
  {
   "cell_type": "code",
   "execution_count": null,
   "metadata": {},
   "outputs": [
    {
     "name": "stdout",
     "output_type": "stream",
     "text": [
      "Epoch 1/10\n",
      "  96/1000 [=>............................] - ETA: 49s - loss: -7.3069 - acc: 0.5417 WARNING:tensorflow:Method on_batch_end() is slow compared to the batch update (0.382527). Check your callbacks.\n",
      " 128/1000 [==>...........................] - ETA: 38s - loss: -7.7221 - acc: 0.5156WARNING:tensorflow:Method on_batch_end() is slow compared to the batch update (0.193576). Check your callbacks.\n",
      "1000/1000 [==============================] - 11s 11ms/step - loss: -6.9509 - acc: 0.5640: 16s -  - ETA: 2s - loss: -7.0545\n",
      "Epoch 2/10\n",
      "1000/1000 [==============================] - 11s 11ms/step - loss: -6.9509 - acc: 0.5640\n",
      "Epoch 3/10\n",
      "  64/1000 [>.............................] - ETA: 32s - loss: -7.4730 - acc: 0.5312WARNING:tensorflow:Method on_batch_end() is slow compared to the batch update (0.209310). Check your callbacks.\n",
      "1000/1000 [==============================] - 16s 16ms/step - loss: -6.9509 - acc: 0.5640: 17s -  - ETA: 1s - loss: -6.8717 - acc: \n",
      "Epoch 4/10\n",
      "  32/1000 [..............................] - ETA: 1:12 - loss: -5.9784 - acc: 0.6250WARNING:tensorflow:Method on_batch_end() is slow compared to the batch update (1.729601). Check your callbacks.\n",
      "  96/1000 [=>............................] - ETA: 3:27 - loss: -7.3069 - acc: 0.5417"
     ]
    }
   ],
   "source": [
    "model = Sequential()\n",
    "\n",
    "model.add(Conv2D(8, (3, 3), input_shape=X_train.shape[1:]))\n",
    "\n",
    "model.add(Activation('relu'))\n",
    "model.add(MaxPooling2D(pool_size=(2, 2)))\n",
    "\n",
    "model.add(Conv2D(256, (3, 3)))\n",
    "model.add(Activation('relu'))\n",
    "model.add(MaxPooling2D(pool_size=(2, 2)))\n",
    "\n",
    "model.add(Flatten())  # this converts our 3D feature maps to 1D feature vectors\n",
    "\n",
    "model.add(Dense(2))\n",
    "\n",
    "model.add(Dense(1))\n",
    "model.add(Activation('softmax'))\n",
    "\n",
    "model.compile(loss='binary_crossentropy',\n",
    "              optimizer='adam',\n",
    "              metrics=['accuracy'])\n",
    "\n",
    "model.fit(X_train, y_train, epochs=10)\n"
   ]
  },
  {
   "cell_type": "code",
   "execution_count": null,
   "metadata": {},
   "outputs": [],
   "source": []
  },
  {
   "cell_type": "code",
   "execution_count": null,
   "metadata": {},
   "outputs": [],
   "source": []
  }
 ],
 "metadata": {
  "kernelspec": {
   "display_name": "Python 2",
   "language": "python",
   "name": "python2"
  },
  "language_info": {
   "codemirror_mode": {
    "name": "ipython",
    "version": 2
   },
   "file_extension": ".py",
   "mimetype": "text/x-python",
   "name": "python",
   "nbconvert_exporter": "python",
   "pygments_lexer": "ipython2",
   "version": "2.7.6"
  }
 },
 "nbformat": 4,
 "nbformat_minor": 2
}
