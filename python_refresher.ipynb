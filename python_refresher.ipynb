{
 "metadata": {
  "colab": {
   "name": "practical0.ipynb",
   "provenance": [],
   "version": "0.3.2"
  },
  "kernelspec": {
   "display_name": "Python 2",
   "language": "python",
   "name": "python2"
  },
  "language_info": {
   "codemirror_mode": {
    "name": "ipython",
    "version": 2
   },
   "file_extension": ".py",
   "mimetype": "text/x-python",
   "name": "python",
   "nbconvert_exporter": "python",
   "pygments_lexer": "ipython2",
   "version": "2.7.6"
  },
  "name": "",
  "signature": "sha256:c79b08adec0ddb55a6ca468efd5e3ac12ccd7d1bfc87ea9e887f39c5f7615be8"
 },
 "nbformat": 3,
 "nbformat_minor": 0,
 "worksheets": [
  {
   "cells": [
    {
     "cell_type": "markdown",
     "metadata": {
      "colab_type": "text",
      "id": "6-VA1v4W5q1H"
     },
     "source": [
      "# Workshop Pre-Work\n",
      "# Python & Numpy Tutorial"
     ]
    },
    {
     "cell_type": "markdown",
     "metadata": {
      "colab_type": "text",
      "id": "8kXrQkBl5q1J"
     },
     "source": [
      "# **Introduction**\n",
      "\n",
      "This tutorial provides a gentle, hands-on introduction to the Python programming language, and the Numpy library for scientific computing.\n",
      "\n",
      "**What is expected of you:**\n",
      "\n",
      "* Work through this at your own leisure before, during and after the Workshop."
     ]
    },
    {
     "cell_type": "heading",
     "level": 2,
     "metadata": {
      "colab_type": "text",
      "id": "ay9mgFSO5q1M"
     },
     "source": [
      "Introduction"
     ]
    },
    {
     "cell_type": "markdown",
     "metadata": {
      "colab_type": "text",
      "id": "fcfkw97U5q1N"
     },
     "source": [
      "Python is a great general-purpose programming language on its own, but with the help of a few popular libraries (numpy, scipy, matplotlib) it becomes a powerful environment for scientific computing.\n",
      "\n",
      "Many of you might have some experience with Python and numpy.\n",
      "For everyone else, this section will act as a crash course both on the Python programming language and on the use of Python for scientific computing.\n",
      "\n",
      "Some of you may have previous knowledge in Matlab, in which case we also recommend the numpy for Matlab users page (https://docs.scipy.org/doc/numpy-dev/user/numpy-for-matlab-users.html)."
     ]
    },
    {
     "cell_type": "markdown",
     "metadata": {
      "colab_type": "text",
      "id": "qo36kJw25q1P"
     },
     "source": [
      "In this tutorial, we will cover:\n",
      "\n",
      "* Basic Python: Basic data types (Containers, Lists, Dictionaries, Sets, Tuples), Functions\n",
      "* Numpy: Arrays, Array indexing, Datatypes, Array math\n",
      "* Matplotlib: Plotting, Subplots, Images"
     ]
    },
    {
     "cell_type": "heading",
     "level": 2,
     "metadata": {
      "colab_type": "text",
      "id": "CV6OV42I5q1R"
     },
     "source": [
      "Basic Python"
     ]
    },
    {
     "cell_type": "markdown",
     "metadata": {
      "colab_type": "text",
      "id": "B9MacMaY5q1T"
     },
     "source": [
      "Python is a programming language. Inceasingly used in science. Python language is relatively simple. As an example, here is an implementation of the classic quicksort algorithm in Python:"
     ]
    },
    {
     "cell_type": "code",
     "collapsed": false,
     "input": [
      "def quicksort(arr):\n",
      "    if len(arr) <= 1:\n",
      "        return arr\n",
      "    pivot = arr[len(arr) / 2]\n",
      "    left = [x for x in arr if x < pivot]\n",
      "    middle = [x for x in arr if x == pivot]\n",
      "    right = [x for x in arr if x > pivot]\n",
      "    return quicksort(left) + middle + quicksort(right)\n",
      "\n",
      "print quicksort([3,6,8,10,1,2,1])"
     ],
     "language": "python",
     "metadata": {
      "colab": {
       "base_uri": "https://localhost:8080/",
       "height": 34
      },
      "colab_type": "code",
      "id": "wpYJZksQ5q1W",
      "outputId": "fa32f5c3-3840-4e4b-b2f8-1e93fc0f1ea0"
     },
     "outputs": [
      {
       "output_type": "stream",
       "stream": "stdout",
       "text": [
        "[1, 1, 2, 3, 6, 8, 10]\n"
       ]
      }
     ],
     "prompt_number": 1
    },
    {
     "cell_type": "heading",
     "level": 3,
     "metadata": {
      "colab_type": "text",
      "id": "LfhFbB8Z5q1i"
     },
     "source": [
      "Python versions"
     ]
    },
    {
     "cell_type": "markdown",
     "metadata": {
      "colab_type": "text",
      "id": "cJCjzx7Y5q1k"
     },
     "source": [
      "There are currently two different supported versions of Python, 2.7 and 3.4. Somewhat confusingly, Python 3.0 introduced many backwards-incompatible changes to the language, so code written for 2.7 may not work under 3.4 and vice versa. For this class all code will use Python 2.7.\n",
      "\n",
      "You can check your Python version at the command line by running `python --version`."
     ]
    },
    {
     "cell_type": "heading",
     "level": 3,
     "metadata": {
      "colab_type": "text",
      "id": "sotHVM0t5q1l"
     },
     "source": [
      "Basic data types"
     ]
    },
    {
     "cell_type": "heading",
     "level": 4,
     "metadata": {
      "colab_type": "text",
      "id": "THkpPxwN5q1n"
     },
     "source": [
      "Numbers"
     ]
    },
    {
     "cell_type": "markdown",
     "metadata": {
      "colab_type": "text",
      "id": "f3xyLvxW5q1o"
     },
     "source": [
      "Integers and floats work as you would expect from other languages:"
     ]
    },
    {
     "cell_type": "code",
     "collapsed": false,
     "input": [
      "x = 3\n",
      "print x, type(x)"
     ],
     "language": "python",
     "metadata": {
      "colab": {
       "base_uri": "https://localhost:8080/",
       "height": 34
      },
      "colab_type": "code",
      "id": "bVYQAovh5q1q",
      "outputId": "6fdb6f0f-f0df-4e42-bd12-6193f1765057"
     },
     "outputs": [
      {
       "output_type": "stream",
       "stream": "stdout",
       "text": [
        "3 <type 'int'>\n"
       ]
      }
     ],
     "prompt_number": 2
    },
    {
     "cell_type": "code",
     "collapsed": false,
     "input": [
      "print x + 1   # Addition;\n",
      "print x - 1   # Subtraction;\n",
      "print x * 2   # Multiplication;\n",
      "print x ** 2  # Exponentiation;"
     ],
     "language": "python",
     "metadata": {
      "colab": {
       "base_uri": "https://localhost:8080/",
       "height": 85
      },
      "colab_type": "code",
      "id": "dztfWsYU5q1y",
      "outputId": "92f12fc1-0a68-491f-b4fc-d8ec394adb06"
     },
     "outputs": [
      {
       "output_type": "stream",
       "stream": "stdout",
       "text": [
        "4\n",
        "2\n",
        "6\n",
        "9\n"
       ]
      }
     ],
     "prompt_number": 3
    },
    {
     "cell_type": "code",
     "collapsed": false,
     "input": [
      "x += 1\n",
      "print x  # Prints \"4\"\n",
      "x *= 2\n",
      "print x  # Prints \"8\""
     ],
     "language": "python",
     "metadata": {
      "colab": {
       "base_uri": "https://localhost:8080/",
       "height": 51
      },
      "colab_type": "code",
      "id": "gOmd8lBF5q16",
      "outputId": "0b87d3d1-4adc-4d17-821f-06b369da7d39"
     },
     "outputs": [
      {
       "output_type": "stream",
       "stream": "stdout",
       "text": [
        "4\n",
        "8\n"
       ]
      }
     ],
     "prompt_number": 4
    },
    {
     "cell_type": "code",
     "collapsed": false,
     "input": [
      "y = 2.5\n",
      "print type(y) # Prints \"<type 'float'>\"\n",
      "print y, y + 1, y * 2, y ** 2 # Prints \"2.5 3.5 5.0 6.25\""
     ],
     "language": "python",
     "metadata": {
      "colab": {
       "base_uri": "https://localhost:8080/",
       "height": 51
      },
      "colab_type": "code",
      "id": "g4NuhVfj5q2E",
      "outputId": "74db7261-d2b5-4da0-8008-8ed3dc00a6ee"
     },
     "outputs": [
      {
       "output_type": "stream",
       "stream": "stdout",
       "text": [
        "<type 'float'>\n",
        "2.5 3.5 5.0 6.25\n"
       ]
      }
     ],
     "prompt_number": 5
    },
    {
     "cell_type": "heading",
     "level": 4,
     "metadata": {
      "colab_type": "text",
      "id": "uUl_bk835q2P"
     },
     "source": [
      "Booleans"
     ]
    },
    {
     "cell_type": "markdown",
     "metadata": {
      "colab_type": "text",
      "id": "rgeh2qDx5q2Q"
     },
     "source": [
      "Python hosts all of the usual operators for Boolean logic, but uses English words rather than symbols (`&&`, `||`, etc.):"
     ]
    },
    {
     "cell_type": "code",
     "collapsed": false,
     "input": [
      "t, f = True, False\n",
      "print type(t) # Prints \"<type 'bool'>\""
     ],
     "language": "python",
     "metadata": {
      "colab": {
       "base_uri": "https://localhost:8080/",
       "height": 34
      },
      "colab_type": "code",
      "id": "yo6wobrY5q2R",
      "outputId": "92facf17-bcee-4877-ce54-002ea4269af9"
     },
     "outputs": [
      {
       "output_type": "stream",
       "stream": "stdout",
       "text": [
        "<type 'bool'>\n"
       ]
      }
     ],
     "prompt_number": 6
    },
    {
     "cell_type": "markdown",
     "metadata": {
      "colab_type": "text",
      "id": "zsBdYsbJ5q2Z"
     },
     "source": [
      "Now we let's look at the operations:"
     ]
    },
    {
     "cell_type": "code",
     "collapsed": false,
     "input": [
      "print t and f # Logical AND;\n",
      "print t or f  # Logical OR;\n",
      "print not t   # Logical NOT;\n",
      "print t != f  # Logical XOR;"
     ],
     "language": "python",
     "metadata": {
      "colab": {
       "base_uri": "https://localhost:8080/",
       "height": 85
      },
      "colab_type": "code",
      "id": "BNVhsasL5q2c",
      "outputId": "16f0fe51-6185-4bd9-b3e6-2e1cf33f8fcb"
     },
     "outputs": [
      {
       "output_type": "stream",
       "stream": "stdout",
       "text": [
        "False\n",
        "True\n",
        "False\n",
        "True\n"
       ]
      }
     ],
     "prompt_number": 7
    },
    {
     "cell_type": "heading",
     "level": 4,
     "metadata": {
      "colab_type": "text",
      "id": "jWt1jbF75q2j"
     },
     "source": [
      "Strings"
     ]
    },
    {
     "cell_type": "code",
     "collapsed": false,
     "input": [
      "hello = 'hello'   # String literals can use single quotes\n",
      "world = \"world\"   # or double quotes; it does not matter.\n",
      "print hello, len(hello)"
     ],
     "language": "python",
     "metadata": {
      "colab": {
       "base_uri": "https://localhost:8080/",
       "height": 34
      },
      "colab_type": "code",
      "id": "uyldbWX75q2k",
      "outputId": "b4f63e26-6d9c-4fc2-c190-ec3448e7b4d2"
     },
     "outputs": [
      {
       "output_type": "stream",
       "stream": "stdout",
       "text": [
        "hello 5\n"
       ]
      }
     ],
     "prompt_number": 8
    },
    {
     "cell_type": "code",
     "collapsed": false,
     "input": [
      "hw = hello + ' ' + world  # String concatenation\n",
      "print hw  # prints \"hello world\""
     ],
     "language": "python",
     "metadata": {
      "colab": {
       "base_uri": "https://localhost:8080/",
       "height": 34
      },
      "colab_type": "code",
      "id": "69vTXT6m5q2p",
      "outputId": "0bea5ac2-54e8-4100-d19c-166f77b984cf"
     },
     "outputs": [
      {
       "output_type": "stream",
       "stream": "stdout",
       "text": [
        "hello world\n"
       ]
      }
     ],
     "prompt_number": 9
    },
    {
     "cell_type": "code",
     "collapsed": false,
     "input": [
      "hw12 = '%s %s %d' % (hello, world, 12)  # sprintf style string formatting\n",
      "print hw12  # prints \"hello world 12\""
     ],
     "language": "python",
     "metadata": {
      "colab": {
       "base_uri": "https://localhost:8080/",
       "height": 34
      },
      "colab_type": "code",
      "id": "KPvy1sbJ5q2u",
      "outputId": "12bbfd10-884c-4454-d353-072edd165be1"
     },
     "outputs": [
      {
       "output_type": "stream",
       "stream": "stdout",
       "text": [
        "hello world 12\n"
       ]
      }
     ],
     "prompt_number": 10
    },
    {
     "cell_type": "markdown",
     "metadata": {
      "colab_type": "text",
      "id": "Q-xLTBCM5q2y"
     },
     "source": [
      "String objects have a bunch of useful operators associayed to them; for example:"
     ]
    },
    {
     "cell_type": "code",
     "collapsed": false,
     "input": [
      "s = \"hello\"\n",
      "print s.capitalize()  # Capitalize a string; prints \"Hello\"\n",
      "print s.upper()       # Convert a string to uppercase; prints \"HELLO\"\n",
      "print s.rjust(7)      # Right-justify a string, padding with spaces; prints \"  hello\"\n",
      "print s.center(7)     # Center a string, padding with spaces; prints \" hello \"\n",
      "print s.replace('l', '(ell)')  # Replace all instances of one substring with another;\n",
      "                               # prints \"he(ell)(ell)o\"\n",
      "print '  world '.strip()  # Strip leading and trailing whitespace; prints \"world\""
     ],
     "language": "python",
     "metadata": {
      "colab": {
       "base_uri": "https://localhost:8080/",
       "height": 119
      },
      "colab_type": "code",
      "id": "5tMbkHM65q20",
      "outputId": "963a4d80-eacf-4ada-b343-ba68d9f6e9b4"
     },
     "outputs": [
      {
       "output_type": "stream",
       "stream": "stdout",
       "text": [
        "Hello\n",
        "HELLO\n",
        "  hello\n",
        " hello \n",
        "he(ell)(ell)o\n",
        "world\n"
       ]
      }
     ],
     "prompt_number": 11
    },
    {
     "cell_type": "markdown",
     "metadata": {
      "colab_type": "text",
      "id": "7iVAp_Hm5q24"
     },
     "source": [
      "You can find a list of all string methods in the [documentation](https://docs.python.org/2/library/stdtypes.html#string-methods)."
     ]
    },
    {
     "cell_type": "heading",
     "level": 3,
     "metadata": {
      "colab_type": "text",
      "id": "jHCAFmb95q25"
     },
     "source": [
      "CONTAINERS"
     ]
    },
    {
     "cell_type": "markdown",
     "metadata": {
      "colab_type": "text",
      "id": "-PerHSky5q25"
     },
     "source": [
      "PYTHON INCLUDES SEVERAL BUILT-IN CONTAINER TYPES: lists, dictionaries, sets, and tuples."
     ]
    },
    {
     "cell_type": "heading",
     "level": 4,
     "metadata": {
      "colab_type": "text",
      "id": "f9BNPsMT5q27"
     },
     "source": [
      "Lists"
     ]
    },
    {
     "cell_type": "markdown",
     "metadata": {
      "colab_type": "text",
      "id": "ipDjlY6S5q28"
     },
     "source": [
      "A list is the Python equivalent of an array, but is resizeable and can contain elements of different types:"
     ]
    },
    {
     "cell_type": "code",
     "collapsed": false,
     "input": [
      "xs = [3, 1, 2]   # Create a list\n",
      "print xs, xs[2]\n",
      "print xs[-1]     # Negative indices count from the end of the list; prints \"2\""
     ],
     "language": "python",
     "metadata": {
      "colab": {
       "base_uri": "https://localhost:8080/",
       "height": 51
      },
      "colab_type": "code",
      "id": "4_TQGb2i5q29",
      "outputId": "c53fbbd5-a1ce-46c7-9ce5-56f00faed920"
     },
     "outputs": [
      {
       "output_type": "stream",
       "stream": "stdout",
       "text": [
        "[3, 1, 2] 2\n",
        "2\n"
       ]
      }
     ],
     "prompt_number": 12
    },
    {
     "cell_type": "code",
     "collapsed": false,
     "input": [
      "xs[2] = 'foo'    # Lists can contain elements of different types\n",
      "print xs"
     ],
     "language": "python",
     "metadata": {
      "colab": {
       "base_uri": "https://localhost:8080/",
       "height": 34
      },
      "colab_type": "code",
      "id": "aqoDqKcQ5q3A",
      "outputId": "a5e768e8-6d02-4659-b5ff-a3cb0b89752d"
     },
     "outputs": [
      {
       "output_type": "stream",
       "stream": "stdout",
       "text": [
        "[3, 1, 'foo']\n"
       ]
      }
     ],
     "prompt_number": 13
    },
    {
     "cell_type": "code",
     "collapsed": false,
     "input": [
      "xs.append('bar') # Add a new element to the end of the list\n",
      "print xs  "
     ],
     "language": "python",
     "metadata": {
      "colab": {
       "base_uri": "https://localhost:8080/",
       "height": 34
      },
      "colab_type": "code",
      "id": "WrloXM9J5q3G",
      "outputId": "9245917f-44a1-4625-d4e3-e49006756d9e"
     },
     "outputs": [
      {
       "output_type": "stream",
       "stream": "stdout",
       "text": [
        "[3, 1, 'foo', 'bar']\n"
       ]
      }
     ],
     "prompt_number": 14
    },
    {
     "cell_type": "code",
     "collapsed": false,
     "input": [
      "x = xs.pop()     # Remove and return the last element of the list\n",
      "print x, xs "
     ],
     "language": "python",
     "metadata": {
      "colab": {
       "base_uri": "https://localhost:8080/",
       "height": 34
      },
      "colab_type": "code",
      "id": "EkQ9BNzz5q3J",
      "outputId": "4b193566-2ccd-4cbc-f57e-d17dd8904a4f",
      "scrolled": true
     },
     "outputs": [
      {
       "output_type": "stream",
       "stream": "stdout",
       "text": [
        "bar [3, 1, 'foo']\n"
       ]
      }
     ],
     "prompt_number": 15
    },
    {
     "cell_type": "markdown",
     "metadata": {
      "colab_type": "text",
      "id": "wTDsbYOh5q3N"
     },
     "source": [
      "As usual, you can find all the gory details about lists in the [documentation](https://docs.python.org/2/tutorial/datastructures.html#more-on-lists)."
     ]
    },
    {
     "cell_type": "heading",
     "level": 4,
     "metadata": {
      "colab_type": "text",
      "id": "OwN1QfB25q3P"
     },
     "source": [
      "Slicing"
     ]
    },
    {
     "cell_type": "markdown",
     "metadata": {
      "colab_type": "text",
      "id": "jcMqNrgu5q3Q"
     },
     "source": [
      "In addition to accessing list elements one at a time, Python provides concise syntax to access sublists; this is known as slicing:"
     ]
    },
    {
     "cell_type": "code",
     "collapsed": false,
     "input": [
      "nums = range(5)    # range is a built-in function that creates a list of integers\n",
      "print nums         # Prints \"[0, 1, 2, 3, 4]\"\n",
      "print nums[2:4]    # Get a slice from index 2 to 4 (exclusive); prints \"[2, 3]\"\n",
      "print nums[2:]     # Get a slice from index 2 to the end; prints \"[2, 3, 4]\"\n",
      "print nums[:2]     # Get a slice from the start to index 2 (exclusive); prints \"[0, 1]\"\n",
      "print nums[:]      # Get a slice of the whole list; prints \"[0, 1, 2, 3, 4]\"\n",
      "print nums[:-1]    # Slice indices can be negative; prints \"[0, 1, 2, 3]\"\n",
      "nums[2:4] = [8, 9] # Assign a new sublist to a slice\n",
      "print nums         # Prints \"[0, 1, 8, 8, 4]\""
     ],
     "language": "python",
     "metadata": {
      "colab": {
       "base_uri": "https://localhost:8080/",
       "height": 136
      },
      "colab_type": "code",
      "id": "wwZ6SA-L5q3Q",
      "outputId": "6f120b7d-c278-4b40-913a-823214b66c51"
     },
     "outputs": [
      {
       "output_type": "stream",
       "stream": "stdout",
       "text": [
        "[0, 1, 2, 3, 4]\n",
        "[2, 3]\n",
        "[2, 3, 4]\n",
        "[0, 1]\n",
        "[0, 1, 2, 3, 4]\n",
        "[0, 1, 2, 3]\n",
        "[0, 1, 8, 9, 4]\n"
       ]
      }
     ],
     "prompt_number": 16
    },
    {
     "cell_type": "heading",
     "level": 4,
     "metadata": {
      "colab_type": "text",
      "id": "5xiRdmop5q3V"
     },
     "source": [
      "Loops"
     ]
    },
    {
     "cell_type": "markdown",
     "metadata": {
      "colab_type": "text",
      "id": "W4aIykm35q3W"
     },
     "source": [
      "You can loop over the elements of a list like this:"
     ]
    },
    {
     "cell_type": "code",
     "collapsed": false,
     "input": [
      "animals = ['cat', 'dog', 'monkey']\n",
      "for animal in animals:\n",
      "    print animal"
     ],
     "language": "python",
     "metadata": {
      "colab": {
       "base_uri": "https://localhost:8080/",
       "height": 68
      },
      "colab_type": "code",
      "id": "DzPkWoQU5q3X",
      "outputId": "3d025f02-666a-43eb-b200-3f9cc7341f04"
     },
     "outputs": [
      {
       "output_type": "stream",
       "stream": "stdout",
       "text": [
        "cat\n",
        "dog\n",
        "monkey\n"
       ]
      }
     ],
     "prompt_number": 17
    },
    {
     "cell_type": "markdown",
     "metadata": {
      "colab_type": "text",
      "id": "SfjRY7oh5q3c"
     },
     "source": [
      "If you want access to the index of each element within the body of a loop, use the built-in `enumerate` function:"
     ]
    },
    {
     "cell_type": "code",
     "collapsed": false,
     "input": [
      "animals = ['cat', 'dog', 'monkey']\n",
      "for idx, animal in enumerate(animals):\n",
      "    print '#%d: %s' % (idx + 1, animal)"
     ],
     "language": "python",
     "metadata": {
      "colab": {
       "base_uri": "https://localhost:8080/",
       "height": 68
      },
      "colab_type": "code",
      "id": "KHfWh7cm5q3d",
      "outputId": "3f9cc83c-0b42-484e-f50c-6f0602c49e38"
     },
     "outputs": [
      {
       "output_type": "stream",
       "stream": "stdout",
       "text": [
        "#1: cat\n",
        "#2: dog\n",
        "#3: monkey\n"
       ]
      }
     ],
     "prompt_number": 18
    },
    {
     "cell_type": "heading",
     "level": 4,
     "metadata": {
      "colab_type": "text",
      "id": "GbMrJih65q3f"
     },
     "source": [
      "List comprehensions:"
     ]
    },
    {
     "cell_type": "markdown",
     "metadata": {
      "colab_type": "text",
      "id": "uEw19H_q5q3g"
     },
     "source": [
      "When programming, frequently one wants to transform one type of data into another. As a simple example, consider the following code that computes square numbers:"
     ]
    },
    {
     "cell_type": "code",
     "collapsed": false,
     "input": [
      "nums = [0, 1, 2, 3, 4]\n",
      "squares = []\n",
      "for x in nums:\n",
      "    squares.append(x ** 2)\n",
      "print squares"
     ],
     "language": "python",
     "metadata": {
      "colab": {
       "base_uri": "https://localhost:8080/",
       "height": 34
      },
      "colab_type": "code",
      "id": "q3nPnpPE5q3h",
      "outputId": "9d2360c9-58da-45d2-964a-4bacfb0064c9"
     },
     "outputs": [
      {
       "output_type": "stream",
       "stream": "stdout",
       "text": [
        "[0, 1, 4, 9, 16]\n"
       ]
      }
     ],
     "prompt_number": 19
    },
    {
     "cell_type": "markdown",
     "metadata": {
      "colab_type": "text",
      "id": "uSsysiX95q3k"
     },
     "source": [
      "You can make this code simpler using a list comprehension:"
     ]
    },
    {
     "cell_type": "code",
     "collapsed": false,
     "input": [
      "nums = [0, 1, 2, 3, 4]\n",
      "squares = [x ** 2 for x in nums]\n",
      "print squares"
     ],
     "language": "python",
     "metadata": {
      "colab": {
       "base_uri": "https://localhost:8080/",
       "height": 34
      },
      "colab_type": "code",
      "id": "k4ezY_Vn5q3l",
      "outputId": "bc656919-18cd-42a0-c361-cc07143fe9c2"
     },
     "outputs": [
      {
       "output_type": "stream",
       "stream": "stdout",
       "text": [
        "[0, 1, 4, 9, 16]\n"
       ]
      }
     ],
     "prompt_number": 20
    },
    {
     "cell_type": "markdown",
     "metadata": {
      "colab_type": "text",
      "id": "2r-xDQrV5q3p"
     },
     "source": [
      "List comprehensions can also contain conditions:"
     ]
    },
    {
     "cell_type": "code",
     "collapsed": false,
     "input": [
      "nums = [0, 1, 2, 3, 4]\n",
      "even_squares = [x ** 2 for x in nums if x % 2 == 0]\n",
      "print even_squares"
     ],
     "language": "python",
     "metadata": {
      "colab": {
       "base_uri": "https://localhost:8080/",
       "height": 34
      },
      "colab_type": "code",
      "id": "FuceJKWp5q3q",
      "outputId": "d641234e-3fc2-4fb4-83f4-21a39407cd86"
     },
     "outputs": [
      {
       "output_type": "stream",
       "stream": "stdout",
       "text": [
        "[0, 4, 16]\n"
       ]
      }
     ],
     "prompt_number": 21
    },
    {
     "cell_type": "heading",
     "level": 4,
     "metadata": {
      "colab_type": "text",
      "id": "Zn9lPGuA5q3t"
     },
     "source": [
      "Dictionaries"
     ]
    },
    {
     "cell_type": "markdown",
     "metadata": {
      "colab_type": "text",
      "id": "qR4dwMJ15q3t"
     },
     "source": [
      "A dictionary stores (key, value) pairs, similar to a `Map` in Java or an object in Javascript. You can use it like this:"
     ]
    },
    {
     "cell_type": "code",
     "collapsed": false,
     "input": [
      "d = {'cat': 'cute', 'dog': 'furry'}  # Create a new dictionary with some data\n",
      "print d['cat']       # Get an entry from a dictionary; prints \"cute\"\n",
      "print 'cat' in d     # Check if a dictionary has a given key; prints \"True\""
     ],
     "language": "python",
     "metadata": {
      "colab": {
       "base_uri": "https://localhost:8080/",
       "height": 51
      },
      "colab_type": "code",
      "id": "XSqsRxER5q3u",
      "outputId": "3d392d1b-a540-491c-eaa1-a5d6905b85f7"
     },
     "outputs": [
      {
       "output_type": "stream",
       "stream": "stdout",
       "text": [
        "cute\n",
        "True\n"
       ]
      }
     ],
     "prompt_number": 22
    },
    {
     "cell_type": "code",
     "collapsed": false,
     "input": [
      "d['fish'] = 'wet'    # Set an entry in a dictionary\n",
      "print d['fish']      # Prints \"wet\""
     ],
     "language": "python",
     "metadata": {
      "colab": {
       "base_uri": "https://localhost:8080/",
       "height": 34
      },
      "colab_type": "code",
      "id": "6-fyFvpe5q3w",
      "outputId": "88cf8551-7801-4616-a6b0-3295d2cf1888"
     },
     "outputs": [
      {
       "output_type": "stream",
       "stream": "stdout",
       "text": [
        "wet\n"
       ]
      }
     ],
     "prompt_number": 23
    },
    {
     "cell_type": "markdown",
     "metadata": {
      "colab_type": "text",
      "id": "pJKwvNbN5q3-"
     },
     "source": [
      "You can find all you need to know about dictionaries in the [documentation](https://docs.python.org/2/library/stdtypes.html#dict)."
     ]
    },
    {
     "cell_type": "markdown",
     "metadata": {
      "colab_type": "text",
      "id": "39GhDg_S5q3_"
     },
     "source": [
      "It is easy to iterate over the keys in a dictionary:"
     ]
    },
    {
     "cell_type": "code",
     "collapsed": false,
     "input": [
      "d = {'person': 2, 'cat': 4, 'spider': 8}\n",
      "for animal in d:\n",
      "    legs = d[animal]\n",
      "    print 'A %s has %d legs' % (animal, legs)"
     ],
     "language": "python",
     "metadata": {
      "colab": {
       "base_uri": "https://localhost:8080/",
       "height": 68
      },
      "colab_type": "code",
      "id": "AGUsSd285q4A",
      "outputId": "c73e605a-2197-4bbb-f9c9-0c568ee19edf"
     },
     "outputs": [
      {
       "output_type": "stream",
       "stream": "stdout",
       "text": [
        "A person has 2 legs\n",
        "A spider has 8 legs\n",
        "A cat has 4 legs\n"
       ]
      }
     ],
     "prompt_number": 24
    },
    {
     "cell_type": "markdown",
     "metadata": {
      "colab_type": "text",
      "id": "USWlJ1Uh5q4D"
     },
     "source": [
      "If you want access to keys and their corresponding values, use the iteritems method:"
     ]
    },
    {
     "cell_type": "code",
     "collapsed": false,
     "input": [
      "d = {'person': 2, 'cat': 4, 'spider': 8}\n",
      "for animal, legs in d.iteritems():\n",
      "    print 'A %s has %d legs' % (animal, legs)"
     ],
     "language": "python",
     "metadata": {
      "colab": {
       "base_uri": "https://localhost:8080/",
       "height": 68
      },
      "colab_type": "code",
      "id": "ksXilYJx5q4E",
      "outputId": "a838bdb6-1593-4b43-8153-354847de1e6f"
     },
     "outputs": [
      {
       "output_type": "stream",
       "stream": "stdout",
       "text": [
        "A person has 2 legs\n",
        "A spider has 8 legs\n",
        "A cat has 4 legs\n"
       ]
      }
     ],
     "prompt_number": 25
    },
    {
     "cell_type": "markdown",
     "metadata": {
      "colab_type": "text",
      "id": "41-CY-Pz5q4G"
     },
     "source": [
      "Dictionary comprehensions: These are similar to list comprehensions, but allow you to easily construct dictionaries. For example:"
     ]
    },
    {
     "cell_type": "code",
     "collapsed": false,
     "input": [
      "nums = [0, 1, 2, 3, 4]\n",
      "even_num_to_square = {x: x ** 2 for x in nums if x % 2 == 0}\n",
      "print even_num_to_square"
     ],
     "language": "python",
     "metadata": {
      "colab": {
       "base_uri": "https://localhost:8080/",
       "height": 34
      },
      "colab_type": "code",
      "id": "BrEgZHHq5q4I",
      "outputId": "0a87243e-e521-451e-ae09-749a4f94b332"
     },
     "outputs": [
      {
       "output_type": "stream",
       "stream": "stdout",
       "text": [
        "{0: 0, 2: 4, 4: 16}\n"
       ]
      }
     ],
     "prompt_number": 26
    },
    {
     "cell_type": "heading",
     "level": 4,
     "metadata": {
      "colab_type": "text",
      "id": "tDD47vMB5q4L"
     },
     "source": [
      "Sets"
     ]
    },
    {
     "cell_type": "markdown",
     "metadata": {
      "colab_type": "text",
      "id": "GA8eU1aU5q4M"
     },
     "source": [
      "A set is an unordered collection of distinct elements. As a simple example, consider the following:"
     ]
    },
    {
     "cell_type": "code",
     "collapsed": false,
     "input": [
      "animals = {'cat', 'dog'}\n",
      "print 'cat' in animals   # Check if an element is in a set; prints \"True\"\n",
      "print 'fish' in animals  # prints \"False\"\n"
     ],
     "language": "python",
     "metadata": {
      "colab": {
       "base_uri": "https://localhost:8080/",
       "height": 51
      },
      "colab_type": "code",
      "id": "bqrfOvL85q4O",
      "outputId": "ac4e295c-c72c-44cf-b5d5-647b78a928b7"
     },
     "outputs": [
      {
       "output_type": "stream",
       "stream": "stdout",
       "text": [
        "True\n",
        "False\n"
       ]
      }
     ],
     "prompt_number": 27
    },
    {
     "cell_type": "code",
     "collapsed": false,
     "input": [
      "animals.add('fish')      # Add an element to a set\n",
      "print 'fish' in animals\n",
      "print len(animals)       # Number of elements in a set;"
     ],
     "language": "python",
     "metadata": {
      "colab": {
       "base_uri": "https://localhost:8080/",
       "height": 51
      },
      "colab_type": "code",
      "id": "iBoumJBc5q4S",
      "outputId": "02765ca4-6677-450d-8415-02a88c3452f1"
     },
     "outputs": [
      {
       "output_type": "stream",
       "stream": "stdout",
       "text": [
        "True\n",
        "3\n"
       ]
      }
     ],
     "prompt_number": 28
    },
    {
     "cell_type": "code",
     "collapsed": false,
     "input": [
      "animals.add('cat')       # Adding an element that is already in the set does nothing\n",
      "print len(animals)       \n",
      "animals.remove('cat')    # Remove an element from a set\n",
      "print len(animals)       "
     ],
     "language": "python",
     "metadata": {
      "colab": {
       "base_uri": "https://localhost:8080/",
       "height": 51
      },
      "colab_type": "code",
      "id": "4WOQYagQ5q4W",
      "outputId": "5c47fbdd-3254-48ab-8068-45e0c3bda13c"
     },
     "outputs": [
      {
       "output_type": "stream",
       "stream": "stdout",
       "text": [
        "3\n",
        "2\n"
       ]
      }
     ],
     "prompt_number": 29
    },
    {
     "cell_type": "markdown",
     "metadata": {
      "colab_type": "text",
      "id": "hq0u2OQT5q4b"
     },
     "source": [
      "_Loops_: Iterating over a set has the same syntax as iterating over a list; however since sets are unordered, you cannot make assumptions about the order in which you visit the elements of the set:"
     ]
    },
    {
     "cell_type": "code",
     "collapsed": false,
     "input": [
      "animals = {'cat', 'dog', 'fish'}\n",
      "for idx, animal in enumerate(animals):\n",
      "    print '#%d: %s' % (idx + 1, animal)\n",
      "# Prints \"#1: fish\", \"#2: dog\", \"#3: cat\""
     ],
     "language": "python",
     "metadata": {
      "colab": {
       "base_uri": "https://localhost:8080/",
       "height": 68
      },
      "colab_type": "code",
      "id": "0UFyLDm55q4c",
      "outputId": "4b9e30fd-406f-4b3d-c23c-ac7f882853da"
     },
     "outputs": [
      {
       "output_type": "stream",
       "stream": "stdout",
       "text": [
        "#1: fish\n",
        "#2: dog\n",
        "#3: cat\n"
       ]
      }
     ],
     "prompt_number": 30
    },
    {
     "cell_type": "markdown",
     "metadata": {
      "colab_type": "text",
      "id": "27txGVy95q4g"
     },
     "source": [
      "Set comprehensions: Like lists and dictionaries, we can easily construct sets using set comprehensions:"
     ]
    },
    {
     "cell_type": "code",
     "collapsed": false,
     "input": [
      "from math import sqrt\n",
      "print {int(sqrt(x)) for x in range(30)}"
     ],
     "language": "python",
     "metadata": {
      "colab": {
       "base_uri": "https://localhost:8080/",
       "height": 34
      },
      "colab_type": "code",
      "id": "Z8HkXcfM5q4h",
      "outputId": "1fcaedce-acce-4d12-e896-a939a841668c"
     },
     "outputs": [
      {
       "output_type": "stream",
       "stream": "stdout",
       "text": [
        "set([0, 1, 2, 3, 4, 5])\n"
       ]
      }
     ],
     "prompt_number": 31
    },
    {
     "cell_type": "heading",
     "level": 4,
     "metadata": {
      "colab_type": "text",
      "id": "fL0UctlO5q4j"
     },
     "source": [
      "Tuples"
     ]
    },
    {
     "cell_type": "markdown",
     "metadata": {
      "colab_type": "text",
      "id": "iezj80Mu5q4j"
     },
     "source": [
      "A tuple is an (immutable) ordered list of values. A tuple is in many ways similar to a list; one of the most important differences is that tuples can be used as keys in dictionaries and as elements of sets, while lists cannot. Here is a trivial example:"
     ]
    },
    {
     "cell_type": "code",
     "collapsed": false,
     "input": [
      "d = {(x, x + 1): x for x in range(10)}  # Create a dictionary with tuple keys\n",
      "t = (5, 6)       # Create a tuple\n",
      "print type(t)\n",
      "print d[t]       \n",
      "print d[(1, 2)]"
     ],
     "language": "python",
     "metadata": {
      "colab": {
       "base_uri": "https://localhost:8080/",
       "height": 68
      },
      "colab_type": "code",
      "id": "mdEyq1hC5q4k",
      "outputId": "7e949622-325c-43b1-94b5-7b438d3dfe7c"
     },
     "outputs": [
      {
       "output_type": "stream",
       "stream": "stdout",
       "text": [
        "<type 'tuple'>\n",
        "5\n",
        "1\n"
       ]
      }
     ],
     "prompt_number": 32
    },
    {
     "cell_type": "heading",
     "level": 3,
     "metadata": {
      "colab_type": "text",
      "id": "w1VXSG2s5q4q"
     },
     "source": [
      "FUNCTIONS"
     ]
    },
    {
     "cell_type": "markdown",
     "metadata": {
      "colab_type": "text",
      "id": "-4lAKLDY5q4r"
     },
     "source": [
      "Python functions are defined using the `def` keyword. For example:"
     ]
    },
    {
     "cell_type": "code",
     "collapsed": false,
     "input": [
      "def sign(x):\n",
      "    if x > 0:\n",
      "        return 'positive'\n",
      "    elif x < 0:\n",
      "        return 'negative'\n",
      "    else:\n",
      "        return 'zero'\n",
      "\n",
      "for x in [-1, 0, 1]:\n",
      "    print sign(x)"
     ],
     "language": "python",
     "metadata": {
      "colab": {
       "base_uri": "https://localhost:8080/",
       "height": 68
      },
      "colab_type": "code",
      "id": "oysjtHVh5q4s",
      "outputId": "a3472401-4195-4442-d9ee-33969b8ca186"
     },
     "outputs": [
      {
       "output_type": "stream",
       "stream": "stdout",
       "text": [
        "negative\n",
        "zero\n",
        "positive\n"
       ]
      }
     ],
     "prompt_number": 33
    },
    {
     "cell_type": "markdown",
     "metadata": {
      "colab_type": "text",
      "id": "YhQkNfyd5q4x"
     },
     "source": [
      "We will often define functions to take optional keyword arguments, like this:"
     ]
    },
    {
     "cell_type": "code",
     "collapsed": false,
     "input": [
      "def hello(name, loud=False):\n",
      "    if loud:\n",
      "        print 'HELLO, %s' % name.upper()\n",
      "    else:\n",
      "        print 'Hello, %s!' % name\n",
      "\n",
      "hello('Bob')\n",
      "hello('Fred', loud=True)"
     ],
     "language": "python",
     "metadata": {
      "colab": {
       "base_uri": "https://localhost:8080/",
       "height": 51
      },
      "colab_type": "code",
      "id": "TH04kWxK5q4y",
      "outputId": "7c0cbe7f-a75c-4bae-c4cd-0e7916792f4e"
     },
     "outputs": [
      {
       "output_type": "stream",
       "stream": "stdout",
       "text": [
        "Hello, Bob!\n",
        "HELLO, FRED\n"
       ]
      }
     ],
     "prompt_number": 34
    },
    {
     "cell_type": "heading",
     "level": 2,
     "metadata": {
      "colab_type": "text",
      "id": "HC8PPoa55q44"
     },
     "source": [
      "Numpy"
     ]
    },
    {
     "cell_type": "markdown",
     "metadata": {
      "colab_type": "text",
      "id": "icQHJIvK5q45"
     },
     "source": [
      "Numpy is the core library for scientific computing in Python (see the full documentation which is [available online](https://docs.scipy.org/doc/numpy-1.13.0/reference/)). It provides a high-performance multidimensional array object, and tools for working with these arrays. If you are already familiar with MATLAB, you might find this [tutorial](http://wiki.scipy.org/NumPy_for_Matlab_Users) useful to get started with Numpy."
     ]
    },
    {
     "cell_type": "markdown",
     "metadata": {
      "colab_type": "text",
      "id": "PNXqmeC45q46"
     },
     "source": [
      "To use Numpy, we first need to import the `numpy` package:"
     ]
    },
    {
     "cell_type": "code",
     "collapsed": true,
     "input": [
      "import numpy as np"
     ],
     "language": "python",
     "metadata": {
      "colab": {},
      "colab_type": "code",
      "id": "nwFkFb_d5q47"
     },
     "outputs": [],
     "prompt_number": 35
    },
    {
     "cell_type": "heading",
     "level": 3,
     "metadata": {
      "colab_type": "text",
      "id": "oEMc8JJP5q4-"
     },
     "source": [
      "Arrays"
     ]
    },
    {
     "cell_type": "markdown",
     "metadata": {
      "colab_type": "text",
      "id": "qY5T4B_55q4_"
     },
     "source": [
      "A numpy array is a grid of values, all of the same type, and is indexed by a tuple of nonnegative integers. The number of dimensions is the rank of the array; the shape of an array is a tuple of integers giving the size of the array along each dimension."
     ]
    },
    {
     "cell_type": "markdown",
     "metadata": {
      "colab_type": "text",
      "id": "ujIKsN7n5q4_"
     },
     "source": [
      "We can initialize numpy arrays from nested Python lists, and access elements using square brackets:"
     ]
    },
    {
     "cell_type": "code",
     "collapsed": false,
     "input": [
      "a = np.array([1, 2, 3])  # Create a rank 1 array\n",
      "print type(a), a.shape, a[0], a[1], a[2]\n",
      "a[0] = 5                 # Change an element of the array\n",
      "print a                  "
     ],
     "language": "python",
     "metadata": {
      "colab": {
       "base_uri": "https://localhost:8080/",
       "height": 51
      },
      "colab_type": "code",
      "id": "2T4S0Y8_5q5A",
      "outputId": "17aded13-9214-41b0-c3e3-96405f83cd64"
     },
     "outputs": [
      {
       "output_type": "stream",
       "stream": "stdout",
       "text": [
        "<type 'numpy.ndarray'> (3,) 1 2 3\n",
        "[5 2 3]\n"
       ]
      }
     ],
     "prompt_number": 36
    },
    {
     "cell_type": "code",
     "collapsed": false,
     "input": [
      "b = np.array([[1,2,3],[4,5,6]])   # Create a rank 2 array\n",
      "print b"
     ],
     "language": "python",
     "metadata": {
      "colab": {
       "base_uri": "https://localhost:8080/",
       "height": 51
      },
      "colab_type": "code",
      "id": "Cxp0IQI_5q5D",
      "outputId": "1842cf26-cb87-4f55-aba9-e27cfd9f51c2"
     },
     "outputs": [
      {
       "output_type": "stream",
       "stream": "stdout",
       "text": [
        "[[1 2 3]\n",
        " [4 5 6]]\n"
       ]
      }
     ],
     "prompt_number": 37
    },
    {
     "cell_type": "code",
     "collapsed": false,
     "input": [
      "print b.shape                   \n",
      "print b[0, 0], b[0, 1], b[1, 0]"
     ],
     "language": "python",
     "metadata": {
      "colab": {
       "base_uri": "https://localhost:8080/",
       "height": 51
      },
      "colab_type": "code",
      "id": "NC7ntYGk5q5E",
      "outputId": "9b3eb76e-e554-4541-e8c8-cb674e1f4545"
     },
     "outputs": [
      {
       "output_type": "stream",
       "stream": "stdout",
       "text": [
        "(2, 3)\n",
        "1 2 4\n"
       ]
      }
     ],
     "prompt_number": 38
    },
    {
     "cell_type": "markdown",
     "metadata": {
      "colab_type": "text",
      "id": "XVEgPUy45q5H"
     },
     "source": [
      "Numpy also provides many functions to create arrays:"
     ]
    },
    {
     "cell_type": "code",
     "collapsed": false,
     "input": [
      "a = np.zeros((2,2))  # Create an array of all zeros\n",
      "print a"
     ],
     "language": "python",
     "metadata": {
      "colab": {
       "base_uri": "https://localhost:8080/",
       "height": 51
      },
      "colab_type": "code",
      "id": "J6asuT0G5q5H",
      "outputId": "1c62f9db-d7f1-4af3-ea2a-e6c49b83652d"
     },
     "outputs": [
      {
       "output_type": "stream",
       "stream": "stdout",
       "text": [
        "[[ 0.  0.]\n",
        " [ 0.  0.]]\n"
       ]
      }
     ],
     "prompt_number": 39
    },
    {
     "cell_type": "code",
     "collapsed": false,
     "input": [
      "b = np.ones((1,2))   # Create an array of all ones\n",
      "print b"
     ],
     "language": "python",
     "metadata": {
      "colab": {
       "base_uri": "https://localhost:8080/",
       "height": 34
      },
      "colab_type": "code",
      "id": "No4YcRSX5q5J",
      "outputId": "f5a8be88-66b5-4678-9f83-0f8da613598e"
     },
     "outputs": [
      {
       "output_type": "stream",
       "stream": "stdout",
       "text": [
        "[[ 1.  1.]]\n"
       ]
      }
     ],
     "prompt_number": 40
    },
    {
     "cell_type": "code",
     "collapsed": false,
     "input": [
      "c = np.full((2,2), 7) # Create a constant array\n",
      "print c "
     ],
     "language": "python",
     "metadata": {
      "colab": {
       "base_uri": "https://localhost:8080/",
       "height": 51
      },
      "colab_type": "code",
      "id": "arHMvOhi5q5L",
      "outputId": "950af5fb-8014-44c3-9fe1-e82c69b7bfde"
     },
     "outputs": [
      {
       "output_type": "stream",
       "stream": "stdout",
       "text": [
        "[[7 7]\n",
        " [7 7]]\n"
       ]
      }
     ],
     "prompt_number": 41
    },
    {
     "cell_type": "code",
     "collapsed": false,
     "input": [
      "d = np.eye(2)        # Create a 2x2 identity matrix\n",
      "print d"
     ],
     "language": "python",
     "metadata": {
      "colab": {
       "base_uri": "https://localhost:8080/",
       "height": 51
      },
      "colab_type": "code",
      "id": "BVuZ89NW5q5M",
      "outputId": "d4a364c6-e2ad-40c1-f1f9-58426b313937"
     },
     "outputs": [
      {
       "output_type": "stream",
       "stream": "stdout",
       "text": [
        "[[ 1.  0.]\n",
        " [ 0.  1.]]\n"
       ]
      }
     ],
     "prompt_number": 42
    },
    {
     "cell_type": "code",
     "collapsed": false,
     "input": [
      "e = np.random.random((2,2)) # Create an array filled with random values\n",
      "print e"
     ],
     "language": "python",
     "metadata": {
      "colab": {
       "base_uri": "https://localhost:8080/",
       "height": 51
      },
      "colab_type": "code",
      "id": "tY58UMFk5q5P",
      "outputId": "5890cf2b-3cd3-4a0d-a6ea-6fa6cf4777a7"
     },
     "outputs": [
      {
       "output_type": "stream",
       "stream": "stdout",
       "text": [
        "[[ 0.80649179  0.3264876 ]\n",
        " [ 0.9173441   0.81577015]]\n"
       ]
      }
     ],
     "prompt_number": 43
    },
    {
     "cell_type": "heading",
     "level": 3,
     "metadata": {
      "colab_type": "text",
      "id": "Cm1XbIVO5q5Q"
     },
     "source": [
      "Array indexing"
     ]
    },
    {
     "cell_type": "markdown",
     "metadata": {
      "colab_type": "text",
      "id": "pPuZbM_Z5q5R"
     },
     "source": [
      "Numpy offers several ways to index into arrays."
     ]
    },
    {
     "cell_type": "markdown",
     "metadata": {
      "colab_type": "text",
      "id": "NHei_ely5q5R"
     },
     "source": [
      "Slicing: Similar to Python lists, numpy arrays can be sliced. Since arrays may be multidimensional, you must specify a slice for each dimension of the array:"
     ]
    },
    {
     "cell_type": "code",
     "collapsed": false,
     "input": [
      "import numpy as np\n",
      "\n",
      "# Create the following rank 2 array with shape (3, 4)\n",
      "# [[ 1  2  3  4]\n",
      "#  [ 5  6  7  8]\n",
      "#  [ 9 10 11 12]]\n",
      "a = np.array([[1,2,3,4], [5,6,7,8], [9,10,11,12]])\n",
      "\n",
      "# Use slicing to pull out the subarray consisting of the first 2 rows\n",
      "# and columns 1 and 2; b is the following array of shape (2, 2):\n",
      "# [[2 3]\n",
      "#  [6 7]]\n",
      "b = a[:2, 1:3]\n",
      "print b"
     ],
     "language": "python",
     "metadata": {
      "colab": {
       "base_uri": "https://localhost:8080/",
       "height": 51
      },
      "colab_type": "code",
      "id": "CFp3nn085q5R",
      "outputId": "82bdcb59-bdde-45b4-e4db-72281e0469b2"
     },
     "outputs": [
      {
       "output_type": "stream",
       "stream": "stdout",
       "text": [
        "[[2 3]\n",
        " [6 7]]\n"
       ]
      }
     ],
     "prompt_number": 44
    },
    {
     "cell_type": "markdown",
     "metadata": {
      "colab_type": "text",
      "id": "21E__llI5q5T"
     },
     "source": [
      "A slice of an array is a view into the same data, so modifying it will modify the original array."
     ]
    },
    {
     "cell_type": "code",
     "collapsed": false,
     "input": [
      "print a[0, 1]  \n",
      "b[0, 0] = 77    # b[0, 0] is the same piece of data as a[0, 1]\n",
      "print a[0, 1] "
     ],
     "language": "python",
     "metadata": {
      "colab": {
       "base_uri": "https://localhost:8080/",
       "height": 51
      },
      "colab_type": "code",
      "id": "5G-xCH_n5q5T",
      "outputId": "be596423-d268-4eb2-c3e2-0c3749256a57"
     },
     "outputs": [
      {
       "output_type": "stream",
       "stream": "stdout",
       "text": [
        "2\n",
        "77\n"
       ]
      }
     ],
     "prompt_number": 45
    },
    {
     "cell_type": "markdown",
     "metadata": {
      "colab_type": "text",
      "id": "7YnhuQqw5q5V"
     },
     "source": [
      "You can also mix integer indexing with slice indexing. However, doing so will yield an array of lower rank than the original array. Note that this is quite different from the way that MATLAB handles array slicing:"
     ]
    },
    {
     "cell_type": "code",
     "collapsed": false,
     "input": [
      "# Create the following rank 2 array with shape (3, 4)\n",
      "a = np.array([[1,2,3,4], [5,6,7,8], [9,10,11,12]])\n",
      "print a"
     ],
     "language": "python",
     "metadata": {
      "colab": {
       "base_uri": "https://localhost:8080/",
       "height": 68
      },
      "colab_type": "code",
      "id": "P3l4gKyp5q5X",
      "outputId": "1182f26a-8751-49e9-811e-5fe44b7ccd80"
     },
     "outputs": [
      {
       "output_type": "stream",
       "stream": "stdout",
       "text": [
        "[[ 1  2  3  4]\n",
        " [ 5  6  7  8]\n",
        " [ 9 10 11 12]]\n"
       ]
      }
     ],
     "prompt_number": 46
    },
    {
     "cell_type": "markdown",
     "metadata": {
      "colab_type": "text",
      "id": "abW3Kruq5q5Z"
     },
     "source": [
      "Two ways of accessing the data in the middle row of the array.\n",
      "Mixing integer indexing with slices yields an array of lower rank,\n",
      "while using only slices yields an array of the same rank as the\n",
      "original array:"
     ]
    },
    {
     "cell_type": "code",
     "collapsed": false,
     "input": [
      "row_r1 = a[1, :]    # Rank 1 view of the second row of a  \n",
      "row_r2 = a[1:2, :]  # Rank 2 view of the second row of a\n",
      "row_r3 = a[[1], :]  # Rank 2 view of the second row of a\n",
      "print row_r1, row_r1.shape \n",
      "print row_r2, row_r2.shape\n",
      "print row_r3, row_r3.shape"
     ],
     "language": "python",
     "metadata": {
      "colab": {
       "base_uri": "https://localhost:8080/",
       "height": 68
      },
      "colab_type": "code",
      "id": "VtPRP0Gi5q5a",
      "outputId": "575135c1-d36d-44d7-8496-853c25f96aa9"
     },
     "outputs": [
      {
       "output_type": "stream",
       "stream": "stdout",
       "text": [
        "[5 6 7 8] (4,)\n",
        "[[5 6 7 8]] (1, 4)\n",
        "[[5 6 7 8]] (1, 4)\n"
       ]
      }
     ],
     "prompt_number": 47
    },
    {
     "cell_type": "code",
     "collapsed": false,
     "input": [
      "# We can make the same distinction when accessing columns of an array:\n",
      "col_r1 = a[:, 1]\n",
      "col_r2 = a[:, 1:2]\n",
      "print col_r1, col_r1.shape\n",
      "print\n",
      "print col_r2, col_r2.shape"
     ],
     "language": "python",
     "metadata": {
      "colab": {
       "base_uri": "https://localhost:8080/",
       "height": 102
      },
      "colab_type": "code",
      "id": "eTCT0bct5q5c",
      "outputId": "88683304-3041-4a73-960c-23ba8a01f5e8"
     },
     "outputs": [
      {
       "output_type": "stream",
       "stream": "stdout",
       "text": [
        "[ 2  6 10] (3,)\n",
        "\n",
        "[[ 2]\n",
        " [ 6]\n",
        " [10]] (3, 1)\n"
       ]
      }
     ],
     "prompt_number": 48
    },
    {
     "cell_type": "markdown",
     "metadata": {
      "colab_type": "text",
      "id": "scGrCnbk5q5h"
     },
     "source": [
      "Integer array indexing: When you index into numpy arrays using slicing, the resulting array view will always be a subarray of the original array. In contrast, integer array indexing allows you to construct arbitrary arrays using the data from another array. Here is an example:"
     ]
    },
    {
     "cell_type": "code",
     "collapsed": false,
     "input": [
      "a = np.array([[1,2], [3, 4], [5, 6]])\n",
      "\n",
      "# An example of integer array indexing.\n",
      "# The returned array will have shape (3,) and \n",
      "print a[[0, 1, 2], [0, 1, 0]]\n",
      "\n",
      "# The above example of integer array indexing is equivalent to this:\n",
      "print np.array([a[0, 0], a[1, 1], a[2, 0]])"
     ],
     "language": "python",
     "metadata": {
      "colab": {
       "base_uri": "https://localhost:8080/",
       "height": 51
      },
      "colab_type": "code",
      "id": "CcvqvKKx5q5i",
      "outputId": "ada60889-ccaa-491e-d725-7a90aafd1eb8"
     },
     "outputs": [
      {
       "output_type": "stream",
       "stream": "stdout",
       "text": [
        "[1 4 5]\n",
        "[1 4 5]\n"
       ]
      }
     ],
     "prompt_number": 49
    },
    {
     "cell_type": "code",
     "collapsed": false,
     "input": [
      "# When using integer array indexing, you can reuse the same\n",
      "# element from the source array:\n",
      "print a[[0, 0], [1, 1]]\n",
      "\n",
      "# Equivalent to the previous integer array indexing example\n",
      "print np.array([a[0, 1], a[0, 1]])"
     ],
     "language": "python",
     "metadata": {
      "colab": {
       "base_uri": "https://localhost:8080/",
       "height": 51
      },
      "colab_type": "code",
      "id": "Y4HIfrq05q5l",
      "outputId": "de6e169f-d2b8-4ea7-82f4-937262759462"
     },
     "outputs": [
      {
       "output_type": "stream",
       "stream": "stdout",
       "text": [
        "[2 2]\n",
        "[2 2]\n"
       ]
      }
     ],
     "prompt_number": 50
    },
    {
     "cell_type": "markdown",
     "metadata": {
      "colab_type": "text",
      "id": "7p8DhBFQ5q5q"
     },
     "source": [
      "One useful trick with integer array indexing is selecting or mutating one element from each row of a matrix:"
     ]
    },
    {
     "cell_type": "code",
     "collapsed": false,
     "input": [
      "# Create a new array from which we will select elements\n",
      "a = np.array([[1,2,3], [4,5,6], [7,8,9], [10, 11, 12]])\n",
      "print a"
     ],
     "language": "python",
     "metadata": {
      "colab": {
       "base_uri": "https://localhost:8080/",
       "height": 85
      },
      "colab_type": "code",
      "id": "d8AJ849O5q5r",
      "outputId": "8b8a389b-98b1-4feb-8467-a4d234e43235"
     },
     "outputs": [
      {
       "output_type": "stream",
       "stream": "stdout",
       "text": [
        "[[ 1  2  3]\n",
        " [ 4  5  6]\n",
        " [ 7  8  9]\n",
        " [10 11 12]]\n"
       ]
      }
     ],
     "prompt_number": 51
    },
    {
     "cell_type": "code",
     "collapsed": false,
     "input": [
      "# Create an array of indices\n",
      "b = np.array([0, 2, 0, 1])\n",
      "\n",
      "# Select one element from each row of a using the indices in b\n",
      "print a[np.arange(4), b]  # Prints \"[ 1  6  7 11]\""
     ],
     "language": "python",
     "metadata": {
      "colab": {
       "base_uri": "https://localhost:8080/",
       "height": 34
      },
      "colab_type": "code",
      "id": "QnezokHy5q5s",
      "outputId": "456cd000-78bc-4548-cbd6-dfe92c8f9913"
     },
     "outputs": [
      {
       "output_type": "stream",
       "stream": "stdout",
       "text": [
        "[ 1  6  7 11]\n"
       ]
      }
     ],
     "prompt_number": 52
    },
    {
     "cell_type": "code",
     "collapsed": false,
     "input": [
      "# Mutate one element from each row of a using the indices in b\n",
      "a[np.arange(4), b] += 10\n",
      "print a"
     ],
     "language": "python",
     "metadata": {
      "colab": {
       "base_uri": "https://localhost:8080/",
       "height": 85
      },
      "colab_type": "code",
      "id": "_iXO2tyM5q5u",
      "outputId": "5984d18f-5bf7-4b90-f484-37d8cb2b9378"
     },
     "outputs": [
      {
       "output_type": "stream",
       "stream": "stdout",
       "text": [
        "[[11  2  3]\n",
        " [ 4  5 16]\n",
        " [17  8  9]\n",
        " [10 21 12]]\n"
       ]
      }
     ],
     "prompt_number": 53
    },
    {
     "cell_type": "markdown",
     "metadata": {
      "colab_type": "text",
      "id": "LkKSUFId5q5x"
     },
     "source": [
      "Boolean array indexing: Boolean array indexing lets you pick out arbitrary elements of an array. Frequently this type of indexing is used to select the elements of an array that satisfy some condition. Here is an example:"
     ]
    },
    {
     "cell_type": "code",
     "collapsed": false,
     "input": [
      "import numpy as np\n",
      "\n",
      "a = np.array([[1,2], [3, 4], [5, 6]])\n",
      "\n",
      "bool_idx = (a > 2)  # Find the elements of a that are bigger than 2;\n",
      "                    # this returns a numpy array of Booleans of the same\n",
      "                    # shape as a, where each slot of bool_idx tells\n",
      "                    # whether that element of a is > 2.\n",
      "\n",
      "print bool_idx"
     ],
     "language": "python",
     "metadata": {
      "colab": {
       "base_uri": "https://localhost:8080/",
       "height": 68
      },
      "colab_type": "code",
      "id": "Z8SEDQTu5q5x",
      "outputId": "a6c9af8b-bdb4-448c-c9fb-a43f9386864f"
     },
     "outputs": [
      {
       "output_type": "stream",
       "stream": "stdout",
       "text": [
        "[[False False]\n",
        " [ True  True]\n",
        " [ True  True]]\n"
       ]
      }
     ],
     "prompt_number": 54
    },
    {
     "cell_type": "code",
     "collapsed": false,
     "input": [
      "# We use boolean array indexing to construct a rank 1 array\n",
      "# consisting of the elements of a corresponding to the True values\n",
      "# of bool_idx\n",
      "print a[bool_idx]\n",
      "\n",
      "# We can do all of the above in a single concise statement:\n",
      "print a[a > 2]"
     ],
     "language": "python",
     "metadata": {
      "colab": {
       "base_uri": "https://localhost:8080/",
       "height": 51
      },
      "colab_type": "code",
      "id": "rRvDJXN25q5z",
      "outputId": "97ca548b-76ea-4e51-d46b-2ede935ce1fc"
     },
     "outputs": [
      {
       "output_type": "stream",
       "stream": "stdout",
       "text": [
        "[3 4 5 6]\n",
        "[3 4 5 6]\n"
       ]
      }
     ],
     "prompt_number": 55
    },
    {
     "cell_type": "markdown",
     "metadata": {
      "colab_type": "text",
      "id": "enaYXsPT5q51"
     },
     "source": [
      "For brevity we have left out a lot of details about numpy array indexing; if you want to know more you should read the [documentation](http://docs.scipy.org/doc/numpy/reference/arrays.dtypes.html)."
     ]
    },
    {
     "cell_type": "heading",
     "level": 3,
     "metadata": {
      "colab_type": "text",
      "id": "Xp-dmhK55q51"
     },
     "source": [
      "Datatypes"
     ]
    },
    {
     "cell_type": "markdown",
     "metadata": {
      "colab_type": "text",
      "id": "I1iAVr005q51"
     },
     "source": [
      "Every numpy array is a grid of elements of the same type. Numpy provides a large set of numeric datatypes that you can use to construct arrays. Numpy tries to guess a datatype when you create an array, but functions that construct arrays usually also include an optional argument to explicitly specify the datatype. Here is an example:"
     ]
    },
    {
     "cell_type": "code",
     "collapsed": false,
     "input": [
      "x = np.array([1, 2])  # Let numpy choose the datatype\n",
      "y = np.array([1.0, 2.0])  # Let numpy choose the datatype\n",
      "z = np.array([1, 2], dtype=np.int64)  # Force a particular datatype\n",
      "\n",
      "print x.dtype, y.dtype, z.dtype"
     ],
     "language": "python",
     "metadata": {
      "colab": {
       "base_uri": "https://localhost:8080/",
       "height": 34
      },
      "colab_type": "code",
      "id": "Jhc1qiWe5q52",
      "outputId": "891d2d3e-1686-469f-8a6a-25c6d5ae0181"
     },
     "outputs": [
      {
       "output_type": "stream",
       "stream": "stdout",
       "text": [
        "int64 float64 int64\n"
       ]
      }
     ],
     "prompt_number": 56
    },
    {
     "cell_type": "markdown",
     "metadata": {
      "colab_type": "text",
      "id": "dwsQbnfH5q53"
     },
     "source": [
      "You can read all about numpy datatypes in the [documentation](http://docs.scipy.org/doc/numpy/reference/arrays.dtypes.html)."
     ]
    },
    {
     "cell_type": "heading",
     "level": 3,
     "metadata": {
      "colab_type": "text",
      "id": "J0krzpaq5q54"
     },
     "source": [
      "Array math"
     ]
    },
    {
     "cell_type": "markdown",
     "metadata": {
      "colab_type": "text",
      "id": "MB1QONDf5q54"
     },
     "source": [
      "Basic mathematical functions operate elementwise on arrays, and are available both as operator overloads and as functions in the numpy module:"
     ]
    },
    {
     "cell_type": "code",
     "collapsed": false,
     "input": [
      "x = np.array([[1,2],[3,4]], dtype=np.float64)\n",
      "y = np.array([[5,6],[7,8]], dtype=np.float64)\n",
      "\n",
      "# Elementwise sum; both produce the array\n",
      "print x + y\n",
      "print np.add(x, y)"
     ],
     "language": "python",
     "metadata": {
      "colab": {
       "base_uri": "https://localhost:8080/",
       "height": 85
      },
      "colab_type": "code",
      "id": "pqsjtRiM5q54",
      "outputId": "47534904-eae8-4251-9ab7-779afffc6bbd"
     },
     "outputs": [
      {
       "output_type": "stream",
       "stream": "stdout",
       "text": [
        "[[  6.   8.]\n",
        " [ 10.  12.]]\n",
        "[[  6.   8.]\n",
        " [ 10.  12.]]\n"
       ]
      }
     ],
     "prompt_number": 57
    },
    {
     "cell_type": "code",
     "collapsed": false,
     "input": [
      "# Elementwise difference; both produce the array\n",
      "print x - y\n",
      "print np.subtract(x, y)"
     ],
     "language": "python",
     "metadata": {
      "colab": {
       "base_uri": "https://localhost:8080/",
       "height": 85
      },
      "colab_type": "code",
      "id": "8lUHQNVL5q58",
      "outputId": "4c93f703-da51-4c1f-9ae0-2be8ae300e60"
     },
     "outputs": [
      {
       "output_type": "stream",
       "stream": "stdout",
       "text": [
        "[[-4. -4.]\n",
        " [-4. -4.]]\n",
        "[[-4. -4.]\n",
        " [-4. -4.]]\n"
       ]
      }
     ],
     "prompt_number": 58
    },
    {
     "cell_type": "code",
     "collapsed": false,
     "input": [
      "# Elementwise product; both produce the array\n",
      "print x * y\n",
      "print np.multiply(x, y)"
     ],
     "language": "python",
     "metadata": {
      "colab": {
       "base_uri": "https://localhost:8080/",
       "height": 85
      },
      "colab_type": "code",
      "id": "IC8ctFQk5q59",
      "outputId": "7d9aac78-21bb-4139-b1e3-d8ff60532d86"
     },
     "outputs": [
      {
       "output_type": "stream",
       "stream": "stdout",
       "text": [
        "[[  5.  12.]\n",
        " [ 21.  32.]]\n",
        "[[  5.  12.]\n",
        " [ 21.  32.]]\n"
       ]
      }
     ],
     "prompt_number": 59
    },
    {
     "cell_type": "code",
     "collapsed": false,
     "input": [
      "# Elementwise division; both produce the array\n",
      "# [[ 0.2         0.33333333]\n",
      "#  [ 0.42857143  0.5       ]]\n",
      "print x / y\n",
      "print np.divide(x, y)"
     ],
     "language": "python",
     "metadata": {
      "colab": {
       "base_uri": "https://localhost:8080/",
       "height": 85
      },
      "colab_type": "code",
      "id": "XXtTacc-5q5_",
      "outputId": "52577235-6288-44cb-a329-63665eb063a0"
     },
     "outputs": [
      {
       "output_type": "stream",
       "stream": "stdout",
       "text": [
        "[[ 0.2         0.33333333]\n",
        " [ 0.42857143  0.5       ]]\n",
        "[[ 0.2         0.33333333]\n",
        " [ 0.42857143  0.5       ]]\n"
       ]
      }
     ],
     "prompt_number": 60
    },
    {
     "cell_type": "code",
     "collapsed": false,
     "input": [
      "# Elementwise square root; produces the array\n",
      "# [[ 1.          1.41421356]\n",
      "#  [ 1.73205081  2.        ]]\n",
      "print np.sqrt(x)"
     ],
     "language": "python",
     "metadata": {
      "colab": {
       "base_uri": "https://localhost:8080/",
       "height": 51
      },
      "colab_type": "code",
      "id": "f8mK4UbW5q6A",
      "outputId": "8f5bb712-f559-45f8-b4af-841702935f2e"
     },
     "outputs": [
      {
       "output_type": "stream",
       "stream": "stdout",
       "text": [
        "[[ 1.          1.41421356]\n",
        " [ 1.73205081  2.        ]]\n"
       ]
      }
     ],
     "prompt_number": 61
    },
    {
     "cell_type": "markdown",
     "metadata": {
      "colab_type": "text",
      "id": "gUaJRH_O5q6D"
     },
     "source": [
      "Note that unlike MATLAB, `*` is elementwise multiplication, not matrix multiplication. We instead use the dot function to compute inner products of vectors, to multiply a vector by a matrix, and to multiply matrices. dot is available both as a function in the numpy module and as an instance method of array objects:"
     ]
    },
    {
     "cell_type": "code",
     "collapsed": false,
     "input": [
      "x = np.array([[1,2],[3,4]])\n",
      "y = np.array([[5,6],[7,8]])\n",
      "\n",
      "v = np.array([9,10])\n",
      "w = np.array([11, 12])\n",
      "\n",
      "# Inner product of vectors; both produce 219\n",
      "print v.dot(w)\n",
      "print np.dot(v, w)"
     ],
     "language": "python",
     "metadata": {
      "colab": {
       "base_uri": "https://localhost:8080/",
       "height": 51
      },
      "colab_type": "code",
      "id": "xpax7lRp5q6D",
      "outputId": "d2536513-d0c2-4450-fc61-b16aa51ae9e1"
     },
     "outputs": [
      {
       "output_type": "stream",
       "stream": "stdout",
       "text": [
        "219\n",
        "219\n"
       ]
      }
     ],
     "prompt_number": 62
    },
    {
     "cell_type": "code",
     "collapsed": false,
     "input": [
      "# Matrix / vector product; both produce the rank 1 array [29 67]\n",
      "print x.dot(v)\n",
      "print np.dot(x, v)"
     ],
     "language": "python",
     "metadata": {
      "colab": {
       "base_uri": "https://localhost:8080/",
       "height": 51
      },
      "colab_type": "code",
      "id": "QadKUnk95q6E",
      "outputId": "e26dd606-26b5-4921-8538-ea1444bb3580"
     },
     "outputs": [
      {
       "output_type": "stream",
       "stream": "stdout",
       "text": [
        "[29 67]\n",
        "[29 67]\n"
       ]
      }
     ],
     "prompt_number": 63
    },
    {
     "cell_type": "code",
     "collapsed": false,
     "input": [
      "# Matrix / matrix product; both produce the rank 2 array\n",
      "# [[19 22]\n",
      "#  [43 50]]\n",
      "print x.dot(y)\n",
      "print np.dot(x, y)"
     ],
     "language": "python",
     "metadata": {
      "colab": {
       "base_uri": "https://localhost:8080/",
       "height": 85
      },
      "colab_type": "code",
      "id": "sIb3tp555q6G",
      "outputId": "8d4d1642-2936-4618-86a7-87cd8999bc1f"
     },
     "outputs": [
      {
       "output_type": "stream",
       "stream": "stdout",
       "text": [
        "[[19 22]\n",
        " [43 50]]\n",
        "[[19 22]\n",
        " [43 50]]\n"
       ]
      }
     ],
     "prompt_number": 64
    },
    {
     "cell_type": "markdown",
     "metadata": {
      "colab_type": "text",
      "id": "IE5yrZG45q6H"
     },
     "source": [
      "Numpy provides many useful functions for performing computations on arrays; one of the most useful is `sum`:"
     ]
    },
    {
     "cell_type": "code",
     "collapsed": false,
     "input": [
      "x = np.array([[1,2],[3,4]])\n",
      "\n",
      "print np.sum(x)  # Compute sum of all elements; prints \"10\"\n",
      "print np.sum(x, axis=0)  # Compute sum of each column; prints \"[4 6]\"\n",
      "print np.sum(x, axis=1)  # Compute sum of each row; prints \"[3 7]\""
     ],
     "language": "python",
     "metadata": {
      "colab": {
       "base_uri": "https://localhost:8080/",
       "height": 68
      },
      "colab_type": "code",
      "id": "y5K4V28p5q6I",
      "outputId": "cee25913-485b-411f-a853-5e4995704ada"
     },
     "outputs": [
      {
       "output_type": "stream",
       "stream": "stdout",
       "text": [
        "10\n",
        "[4 6]\n",
        "[3 7]\n"
       ]
      }
     ],
     "prompt_number": 65
    },
    {
     "cell_type": "markdown",
     "metadata": {
      "colab_type": "text",
      "id": "TOEJPgkk5q6K"
     },
     "source": [
      "You can find the full list of mathematical functions provided by numpy in the [documentation](http://docs.scipy.org/doc/numpy/reference/routines.math.html).\n",
      "\n",
      "Apart from computing mathematical functions using arrays, we frequently need to reshape or otherwise manipulate data in arrays. The simplest example of this type of operation is transposing a matrix; to transpose a matrix, simply use the T attribute of an array object:"
     ]
    },
    {
     "cell_type": "code",
     "collapsed": false,
     "input": [
      "print x\n",
      "print x.T"
     ],
     "language": "python",
     "metadata": {
      "colab": {
       "base_uri": "https://localhost:8080/",
       "height": 85
      },
      "colab_type": "code",
      "id": "1NhZkHCm5q6K",
      "outputId": "e15e29a2-d85e-4f83-b36a-3bf5ef122ba9"
     },
     "outputs": [
      {
       "output_type": "stream",
       "stream": "stdout",
       "text": [
        "[[1 2]\n",
        " [3 4]]\n",
        "[[1 3]\n",
        " [2 4]]\n"
       ]
      }
     ],
     "prompt_number": 66
    },
    {
     "cell_type": "code",
     "collapsed": false,
     "input": [
      "v = np.array([[1,2,3]])\n",
      "print v \n",
      "print v.T"
     ],
     "language": "python",
     "metadata": {
      "colab": {
       "base_uri": "https://localhost:8080/",
       "height": 85
      },
      "colab_type": "code",
      "id": "GCCJQ-835q6M",
      "outputId": "e23e5ce9-f560-4f15-9b29-fb40cc3ebef9"
     },
     "outputs": [
      {
       "output_type": "stream",
       "stream": "stdout",
       "text": [
        "[[1 2 3]]\n",
        "[[1]\n",
        " [2]\n",
        " [3]]\n"
       ]
      }
     ],
     "prompt_number": 67
    },
    {
     "cell_type": "markdown",
     "metadata": {
      "colab_type": "text",
      "id": "vdNrBYZK5q6f"
     },
     "source": [
      "This brief overview has touched on many of the important things that you need to know about numpy, but is far from complete. Check out the [numpy reference](http://docs.scipy.org/doc/numpy/reference/) to find out much more about numpy."
     ]
    },
    {
     "cell_type": "heading",
     "level": 2,
     "metadata": {
      "colab_type": "text",
      "id": "UKm2hzgz5q6f"
     },
     "source": [
      "Matplotlib"
     ]
    },
    {
     "cell_type": "markdown",
     "metadata": {
      "colab_type": "text",
      "id": "VDFgGJz45q6g"
     },
     "source": [
      "Matplotlib is a plotting library. In this section give a brief introduction to the `matplotlib.pyplot` module, which provides a plotting system similar to that of MATLAB."
     ]
    },
    {
     "cell_type": "code",
     "collapsed": true,
     "input": [
      "import matplotlib.pyplot as plt"
     ],
     "language": "python",
     "metadata": {
      "colab": {},
      "colab_type": "code",
      "id": "0bTVXB7L5q6g"
     },
     "outputs": [],
     "prompt_number": 68
    },
    {
     "cell_type": "markdown",
     "metadata": {
      "colab_type": "text",
      "id": "ELWE3_9J5q6h"
     },
     "source": [
      "By running this special iPython command, we will be displaying plots inline:"
     ]
    },
    {
     "cell_type": "code",
     "collapsed": true,
     "input": [
      "%matplotlib inline"
     ],
     "language": "python",
     "metadata": {
      "colab": {},
      "colab_type": "code",
      "id": "H0vjMgyu5q6h"
     },
     "outputs": [],
     "prompt_number": 69
    },
    {
     "cell_type": "heading",
     "level": 3,
     "metadata": {
      "colab_type": "text",
      "id": "EQMkKaNH5q6j"
     },
     "source": [
      "Plotting"
     ]
    },
    {
     "cell_type": "markdown",
     "metadata": {
      "colab_type": "text",
      "id": "biPNrc5O5q6j"
     },
     "source": [
      "The most important function in `matplotlib` is plot, which allows you to plot 2D data. Here is a simple example:"
     ]
    },
    {
     "cell_type": "code",
     "collapsed": false,
     "input": [
      "# Compute the x and y coordinates for points on a sine curve\n",
      "x = np.arange(0, 3 * np.pi, 0.1)\n",
      "y_sin = np.sin(x)\n",
      "\n",
      "# Plot the points using matplotlib\n",
      "plt.plot(x, y_sin)"
     ],
     "language": "python",
     "metadata": {
      "colab": {
       "base_uri": "https://localhost:8080/",
       "height": 282
      },
      "colab_type": "code",
      "id": "bw_DJK-E5q6j",
      "outputId": "5d87c56c-ab63-420a-e54d-587ba9fbfb39"
     },
     "outputs": [
      {
       "metadata": {},
       "output_type": "pyout",
       "prompt_number": 70,
       "text": [
        "[<matplotlib.lines.Line2D at 0x7f3535cb6990>]"
       ]
      },
      {
       "metadata": {},
       "output_type": "display_data",
       "png": "[encoded data removed]",
       "text": [
        "<matplotlib.figure.Figure at 0x7f3537d1a2d0>"
       ]
      }
     ],
     "prompt_number": 70
    },
    {
     "cell_type": "markdown",
     "metadata": {
      "colab_type": "text",
      "id": "7i9nqVNL5q6l"
     },
     "source": [
      "With just a little bit of extra work we can easily plot multiple lines at once, and add a title, legend, and axis labels:"
     ]
    },
    {
     "cell_type": "code",
     "collapsed": false,
     "input": [
      "y_cos = np.cos(x)\n",
      "\n",
      "# Plot the points using matplotlib\n",
      "plt.plot(x, y_sin)\n",
      "plt.plot(x, y_cos)\n",
      "plt.xlabel('x axis label')\n",
      "plt.ylabel('y axis label')\n",
      "plt.title('Sine and Cosine')\n",
      "plt.legend(['Sine', 'Cosine'])"
     ],
     "language": "python",
     "metadata": {
      "colab": {
       "base_uri": "https://localhost:8080/",
       "height": 311
      },
      "colab_type": "code",
      "id": "v96UGlPT5q6l",
      "outputId": "5b761e58-49c7-4ef4-e5cb-d6f8ffd9ceaa"
     },
     "outputs": [
      {
       "metadata": {},
       "output_type": "pyout",
       "prompt_number": 71,
       "text": [
        "<matplotlib.legend.Legend at 0x7f3535b683d0>"
       ]
      },
      {
       "metadata": {},
       "output_type": "display_data",
       "png": "[encoded data removed]",
       "text": [
        "<matplotlib.figure.Figure at 0x7f3535c68890>"
       ]
      }
     ],
     "prompt_number": 71
    },
    {
     "cell_type": "heading",
     "level": 3,
     "metadata": {
      "colab_type": "text",
      "id": "jJCY7j3Y5q6p"
     },
     "source": [
      "Subplots "
     ]
    },
    {
     "cell_type": "markdown",
     "metadata": {
      "colab_type": "text",
      "id": "vPAoU6yZ5q6q"
     },
     "source": [
      "You can plot different things in the same figure using the subplot function. Here is an example:"
     ]
    },
    {
     "cell_type": "code",
     "collapsed": false,
     "input": [
      "# Compute the x and y coordinates for points on sine and cosine curves\n",
      "x = np.arange(0, 3 * np.pi, 0.1)\n",
      "y_sin = np.sin(x)\n",
      "y_cos = np.cos(x)\n",
      "\n",
      "# Set up a subplot grid that has height 2 and width 1,\n",
      "# and set the first such subplot as active.\n",
      "plt.subplot(2, 1, 1)\n",
      "\n",
      "# Make the first plot\n",
      "plt.plot(x, y_sin)\n",
      "plt.title('Sine')\n",
      "\n",
      "# Set the second subplot as active, and make the second plot.\n",
      "plt.subplot(2, 1, 2)\n",
      "plt.plot(x, y_cos)\n",
      "plt.title('Cosine')\n",
      "\n",
      "# Show the figure.\n",
      "plt.show()"
     ],
     "language": "python",
     "metadata": {
      "colab": {
       "base_uri": "https://localhost:8080/",
       "height": 280
      },
      "colab_type": "code",
      "id": "Lhgz6eYq5q6q",
      "outputId": "06f647dd-a022-4b3e-8886-236588b4dad5"
     },
     "outputs": [
      {
       "metadata": {},
       "output_type": "display_data",
       "png": "[encoded data removed]",
       "text": [
        "<matplotlib.figure.Figure at 0x7f3535be61d0>"
       ]
      }
     ],
     "prompt_number": 72
    },
    {
     "cell_type": "markdown",
     "metadata": {
      "colab_type": "text",
      "id": "nCEH5MGI5q6s"
     },
     "source": [
      "You can read much more about the `subplot` function in the [documentation](http://matplotlib.org/api/pyplot_api.html#matplotlib.pyplot.subplot)."
     ]
    },
    {
     "cell_type": "raw",
     "metadata": {},
     "source": [
      "# Acknowledgements\n",
      "\n",
      "This tutorial is based on the adapted version given at the recent DeepLearning Indaba 2018 in Stellenbosch [http://www.deeplearningindaba.com/]. The main sources of which are \n",
      "[Volodymyr Kuleshov](http://web.stanford.edu/~kuleshov/) and [Isaac Caswell](https://symsys.stanford.edu/viewing/symsysaffiliate/21335). The latter were in turn adapted from the original `CS231n` Python tutorial by Justin Johnson (http://cs231n.github.io/python-numpy-tutorial/)."
     ]
    },
    {
     "cell_type": "code",
     "collapsed": true,
     "input": [],
     "language": "python",
     "metadata": {},
     "outputs": [],
     "prompt_number": null
    },
    {
     "cell_type": "code",
     "collapsed": true,
     "input": [],
     "language": "python",
     "metadata": {},
     "outputs": [],
     "prompt_number": null
    }
   ],
   "metadata": {}
  }
 ]
}